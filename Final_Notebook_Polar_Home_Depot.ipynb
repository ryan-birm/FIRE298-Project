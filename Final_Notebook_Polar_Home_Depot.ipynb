{
  "cells": [
    {
      "cell_type": "markdown",
      "metadata": {
        "colab_type": "text",
        "id": "view-in-github"
      },
      "source": [
        "<a href=\"https://colab.research.google.com/github/ryan-birm/FIRE298-Project/blob/main/Final_Notebook_Polar_Home_Depot.ipynb\" target=\"_parent\"><img src=\"https://colab.research.google.com/assets/colab-badge.svg\" alt=\"Open In Colab\"/></a>"
      ]
    },
    {
      "cell_type": "markdown",
      "metadata": {
        "id": "qDdqAXnH729c"
      },
      "source": [
        "# Improving the Image Classification of Polar Lows\n",
        "### FIRE 298 Research Project - Polar Home Depot\n",
        "Katie Fernon, Riya Kanani, Ryan Birmingham, Shraddha Patre"
      ]
    },
    {
      "cell_type": "markdown",
      "metadata": {
        "id": "hHn7jxEl8oBy"
      },
      "source": [
        "# Introduction"
      ]
    },
    {
      "cell_type": "markdown",
      "metadata": {
        "id": "nacoWvTR-VCH"
      },
      "source": [
        "### Background\n",
        "Polar lows are fast-forming mesocyclones that are capable of reaching hurricane-like forces (Terpstra and Watanabe). The shape of these storms can either be circular with an eye in the center or in the shape of a comma. The ability to identify these storms and notify coastal communities who may be affected could help them better prepare to face the storm's effects.\n",
        "\n",
        "### Goals\n",
        "The goal of our research is to improve the identification and classification of Polar Lows using machine learning models by expanding upon our final project from FIRE 198, further developing it to produce more accurate identification results. We will partially accomplish this by implementing a CNN model called AlexNet using the Pytorch framework. We found a guide for this implementation on GitHub written by Machine Learning Engineer Daniel Bourke (Bourke).\n",
        "\n",
        "### Motivation\n",
        "Our motivation is to improve automation the classification of satellite imagery data as a polar low or nonpolar low storm image for the sake of furthering technological improvement.\n",
        "\n",
        "We are also motivated to help communities affected by polar lows which would be achieved through accurate identificaiton of the storms using satellite imagery."
      ]
    },
    {
      "cell_type": "markdown",
      "metadata": {
        "id": "G7Lu-whAAtPa"
      },
      "source": [
        "# Initial Evaluation/Brainstorming"
      ]
    },
    {
      "cell_type": "markdown",
      "metadata": {
        "id": "sNGra8T-A47c"
      },
      "source": [
        "To begin our brainstorming process, we created a document to contribute each of our ideas for how to approach solving our research problem. We generated ideas by looking at research articles of image classfication models and previous models that were created by FIRE peer mentors. Upon deliberation, we attempted to implement three strategies: small image training, data dropping for our decision tree, and replacing the original images with IR/water image data.\n",
        "\n",
        "We started with attempting to resize the images but found out that the pretrained models worked best with images of a certain size. From this we learned that we should continue by implementing a better model than the one we had used before - Google Teachable Machine. After doing some research, we decided that a  model would be AlexNet as it has a high accuracy with our dataset."
      ]
    },
    {
      "cell_type": "markdown",
      "metadata": {
        "id": "eXN6OtX7-pMD"
      },
      "source": [
        "#Dependencies\n",
        "\n",
        "In order to implement our various research methods, we will need to use the following libraries."
      ]
    },
    {
      "cell_type": "code",
      "execution_count": null,
      "metadata": {
        "colab": {
          "base_uri": "https://localhost:8080/"
        },
        "id": "m_B8GB6H-17L",
        "outputId": "2c3912b8-d085-433c-ae84-9c13c5a977c0"
      },
      "outputs": [
        {
          "name": "stdout",
          "output_type": "stream",
          "text": [
            "Drive already mounted at /content/drive; to attempt to forcibly remount, call drive.mount(\"/content/drive\", force_remount=True).\n",
            "Cloning into 'pytorch-deep-learning'...\n",
            "remote: Enumerating objects: 3297, done.\u001b[K\n",
            "remote: Counting objects: 100% (277/277), done.\u001b[K\n",
            "remote: Compressing objects: 100% (160/160), done.\u001b[K\n",
            "remote: Total 3297 (delta 137), reused 229 (delta 110), pack-reused 3020\u001b[K\n",
            "Receiving objects: 100% (3297/3297), 642.58 MiB | 36.98 MiB/s, done.\n",
            "Resolving deltas: 100% (1867/1867), done.\n",
            "Checking out files: 100% (221/221), done.\n",
            "mv: cannot move 'pytorch-deep-learning/going_modular' to './going_modular': Directory not empty\n",
            "mlxtend version: 0.21.0\n",
            "0.21.0\n"
          ]
        }
      ],
      "source": [
        "# Everyone\n",
        "\n",
        "# import statements\n",
        "\n",
        "from google.colab import drive  # We import drive so that we can mount our FIRE-CC drive to the Colab environment\n",
        "drive.mount('/content/drive') # this command is how we tell google we have permission to access the data on drive\n",
        "import pickle # Use to download pkl dataframe files from drive\n",
        "import pandas as pd # Pandas for manipulating dataframes\n",
        "import os\n",
        "from sklearn.model_selection import train_test_split\n",
        "import shutil # Bringing files into drive\n",
        "from PIL import Image, ImageOps # Used for image processing operations\n",
        "import keras\n",
        "import torch\n",
        "import torchvision\n",
        "from torchvision import transforms\n",
        "import tensorflow as tf\n",
        "from keras.preprocessing import image\n",
        "import numpy as np  # Numpy; for efficient calculations\n",
        "from keras.applications.imagenet_utils import preprocess_input # Used for training and prediction processes with models, filters images to desired criteria\n",
        "\n",
        "#AlexNet imports\n",
        "!git clone https://github.com/mrdbourke/pytorch-deep-learning\n",
        "!mv pytorch-deep-learning/going_modular .\n",
        "!rm -rf pytorch-deep-learning\n",
        "from going_modular.going_modular import data_setup, engine\n",
        "\n",
        "from tqdm.auto import tqdm\n",
        "\n",
        "try:\n",
        "    import torchmetrics, mlxtend\n",
        "    print(f\"mlxtend version: {mlxtend.__version__}\")\n",
        "    assert int(mlxtend.__version__.split(\".\")[1]) >= 19, \"mlxtend verison should be 0.19.0 or higher\"\n",
        "except:\n",
        "    !pip install -q torchmetrics -U mlxtend # <- Note: If you're using Google Colab, this may require restarting the runtime\n",
        "    import torchmetrics, mlxtend\n",
        "    print(f\"mlxtend version: {mlxtend.__version__}\")\n",
        "\n",
        "# Import mlxtend upgraded version\n",
        "import mlxtend\n",
        "print(mlxtend.__version__)\n",
        "assert int(mlxtend.__version__.split(\".\")[1]) >= 19 # should be version 0.19.0 or higher\n",
        "\n",
        "from torchmetrics import ConfusionMatrix\n",
        "from mlxtend.plotting import plot_confusion_matrix"
      ]
    },
    {
      "cell_type": "markdown",
      "metadata": {
        "id": "TG4-FSISBXT3"
      },
      "source": [
        "#Data Cleaning"
      ]
    },
    {
      "cell_type": "markdown",
      "metadata": {
        "id": "HjVv8djKK7Kw"
      },
      "source": [
        "We will create a dataframe containing information corresponding with each image we will be using for testing and training. We will also bring in images from Snapshots and NonPolarLowSnapshots folders to our Polar Home Depot folder to use as source folders.\n",
        "\n",
        "NOTE: These images were later moved into differently named folders because we wanted to reorganize our directories."
      ]
    },
    {
      "cell_type": "code",
      "execution_count": null,
      "metadata": {
        "colab": {
          "base_uri": "https://localhost:8080/",
          "height": 267
        },
        "id": "eI_VG5NhFv2m",
        "outputId": "e8613c5d-5cd2-4872-9157-74ff175ea43d"
      },
      "outputs": [
        {
          "data": {
            "text/html": [
              "\n",
              "  <div id=\"df-b9ec7a82-5f56-483e-9cb3-1fcbb96a9678\">\n",
              "    <div class=\"colab-df-container\">\n",
              "      <div>\n",
              "<style scoped>\n",
              "    .dataframe tbody tr th:only-of-type {\n",
              "        vertical-align: middle;\n",
              "    }\n",
              "\n",
              "    .dataframe tbody tr th {\n",
              "        vertical-align: top;\n",
              "    }\n",
              "\n",
              "    .dataframe thead th {\n",
              "        text-align: right;\n",
              "    }\n",
              "</style>\n",
              "<table border=\"1\" class=\"dataframe\">\n",
              "  <thead>\n",
              "    <tr style=\"text-align: right;\">\n",
              "      <th></th>\n",
              "      <th>your last name</th>\n",
              "      <th>date of Polar Low Occurance</th>\n",
              "      <th>Aqua or Terra?</th>\n",
              "      <th>How confident are you that this is actually a polar low [1 for low, 2 for high, 0 for definitely not a polar low]</th>\n",
              "      <th>latitude of box top</th>\n",
              "      <th>longitude of box right side</th>\n",
              "      <th>latitude of box bottom</th>\n",
              "      <th>longitude of box left side</th>\n",
              "      <th>file name of PNG</th>\n",
              "    </tr>\n",
              "  </thead>\n",
              "  <tbody>\n",
              "    <tr>\n",
              "      <th>0</th>\n",
              "      <td>Starr</td>\n",
              "      <td>08/11/2020</td>\n",
              "      <td>Terra</td>\n",
              "      <td>2</td>\n",
              "      <td>-57.94</td>\n",
              "      <td>-144.555</td>\n",
              "      <td>-66.748</td>\n",
              "      <td>-153.348</td>\n",
              "      <td>200811_HS1.png</td>\n",
              "    </tr>\n",
              "    <tr>\n",
              "      <th>1</th>\n",
              "      <td>Starr</td>\n",
              "      <td>08/11/2020</td>\n",
              "      <td>Terra</td>\n",
              "      <td>2</td>\n",
              "      <td>-58.15</td>\n",
              "      <td>-130.43</td>\n",
              "      <td>-66.98</td>\n",
              "      <td>-139.22</td>\n",
              "      <td>200811_HS2.png</td>\n",
              "    </tr>\n",
              "    <tr>\n",
              "      <th>2</th>\n",
              "      <td>Starr</td>\n",
              "      <td>08/10/2020</td>\n",
              "      <td>Terra</td>\n",
              "      <td>2</td>\n",
              "      <td>-51.66</td>\n",
              "      <td>-143.26</td>\n",
              "      <td>-60.43</td>\n",
              "      <td>-152.06</td>\n",
              "      <td>200810_HS1.png</td>\n",
              "    </tr>\n",
              "    <tr>\n",
              "      <th>3</th>\n",
              "      <td>Starr</td>\n",
              "      <td>08/13/2020</td>\n",
              "      <td>Terra</td>\n",
              "      <td>2</td>\n",
              "      <td>-53.31</td>\n",
              "      <td>-58.41</td>\n",
              "      <td>-62.11</td>\n",
              "      <td>-67.23</td>\n",
              "      <td>200813_HS1.png</td>\n",
              "    </tr>\n",
              "    <tr>\n",
              "      <th>4</th>\n",
              "      <td>Starr</td>\n",
              "      <td>08/14/2020</td>\n",
              "      <td>Terra</td>\n",
              "      <td>2</td>\n",
              "      <td>-59.4</td>\n",
              "      <td>-79.76</td>\n",
              "      <td>-68.26</td>\n",
              "      <td>-88.58</td>\n",
              "      <td>200814_HS1.png</td>\n",
              "    </tr>\n",
              "  </tbody>\n",
              "</table>\n",
              "</div>\n",
              "      <button class=\"colab-df-convert\" onclick=\"convertToInteractive('df-b9ec7a82-5f56-483e-9cb3-1fcbb96a9678')\"\n",
              "              title=\"Convert this dataframe to an interactive table.\"\n",
              "              style=\"display:none;\">\n",
              "        \n",
              "  <svg xmlns=\"http://www.w3.org/2000/svg\" height=\"24px\"viewBox=\"0 0 24 24\"\n",
              "       width=\"24px\">\n",
              "    <path d=\"M0 0h24v24H0V0z\" fill=\"none\"/>\n",
              "    <path d=\"M18.56 5.44l.94 2.06.94-2.06 2.06-.94-2.06-.94-.94-2.06-.94 2.06-2.06.94zm-11 1L8.5 8.5l.94-2.06 2.06-.94-2.06-.94L8.5 2.5l-.94 2.06-2.06.94zm10 10l.94 2.06.94-2.06 2.06-.94-2.06-.94-.94-2.06-.94 2.06-2.06.94z\"/><path d=\"M17.41 7.96l-1.37-1.37c-.4-.4-.92-.59-1.43-.59-.52 0-1.04.2-1.43.59L10.3 9.45l-7.72 7.72c-.78.78-.78 2.05 0 2.83L4 21.41c.39.39.9.59 1.41.59.51 0 1.02-.2 1.41-.59l7.78-7.78 2.81-2.81c.8-.78.8-2.07 0-2.86zM5.41 20L4 18.59l7.72-7.72 1.47 1.35L5.41 20z\"/>\n",
              "  </svg>\n",
              "      </button>\n",
              "      \n",
              "  <style>\n",
              "    .colab-df-container {\n",
              "      display:flex;\n",
              "      flex-wrap:wrap;\n",
              "      gap: 12px;\n",
              "    }\n",
              "\n",
              "    .colab-df-convert {\n",
              "      background-color: #E8F0FE;\n",
              "      border: none;\n",
              "      border-radius: 50%;\n",
              "      cursor: pointer;\n",
              "      display: none;\n",
              "      fill: #1967D2;\n",
              "      height: 32px;\n",
              "      padding: 0 0 0 0;\n",
              "      width: 32px;\n",
              "    }\n",
              "\n",
              "    .colab-df-convert:hover {\n",
              "      background-color: #E2EBFA;\n",
              "      box-shadow: 0px 1px 2px rgba(60, 64, 67, 0.3), 0px 1px 3px 1px rgba(60, 64, 67, 0.15);\n",
              "      fill: #174EA6;\n",
              "    }\n",
              "\n",
              "    [theme=dark] .colab-df-convert {\n",
              "      background-color: #3B4455;\n",
              "      fill: #D2E3FC;\n",
              "    }\n",
              "\n",
              "    [theme=dark] .colab-df-convert:hover {\n",
              "      background-color: #434B5C;\n",
              "      box-shadow: 0px 1px 3px 1px rgba(0, 0, 0, 0.15);\n",
              "      filter: drop-shadow(0px 1px 2px rgba(0, 0, 0, 0.3));\n",
              "      fill: #FFFFFF;\n",
              "    }\n",
              "  </style>\n",
              "\n",
              "      <script>\n",
              "        const buttonEl =\n",
              "          document.querySelector('#df-b9ec7a82-5f56-483e-9cb3-1fcbb96a9678 button.colab-df-convert');\n",
              "        buttonEl.style.display =\n",
              "          google.colab.kernel.accessAllowed ? 'block' : 'none';\n",
              "\n",
              "        async function convertToInteractive(key) {\n",
              "          const element = document.querySelector('#df-b9ec7a82-5f56-483e-9cb3-1fcbb96a9678');\n",
              "          const dataTable =\n",
              "            await google.colab.kernel.invokeFunction('convertToInteractive',\n",
              "                                                     [key], {});\n",
              "          if (!dataTable) return;\n",
              "\n",
              "          const docLinkHtml = 'Like what you see? Visit the ' +\n",
              "            '<a target=\"_blank\" href=https://colab.research.google.com/notebooks/data_table.ipynb>data table notebook</a>'\n",
              "            + ' to learn more about interactive tables.';\n",
              "          element.innerHTML = '';\n",
              "          dataTable['output_type'] = 'display_data';\n",
              "          await google.colab.output.renderOutput(dataTable, element);\n",
              "          const docLink = document.createElement('div');\n",
              "          docLink.innerHTML = docLinkHtml;\n",
              "          element.appendChild(docLink);\n",
              "        }\n",
              "      </script>\n",
              "    </div>\n",
              "  </div>\n",
              "  "
            ],
            "text/plain": [
              "  your last name date of Polar Low Occurance Aqua or Terra?  \\\n",
              "0          Starr                  08/11/2020          Terra   \n",
              "1          Starr                  08/11/2020          Terra   \n",
              "2          Starr                  08/10/2020          Terra   \n",
              "3          Starr                  08/13/2020          Terra   \n",
              "4          Starr                  08/14/2020          Terra   \n",
              "\n",
              "  How confident are you that this is actually a polar low [1 for low, 2 for high, 0 for definitely not a polar low]  \\\n",
              "0                                                  2                                                                  \n",
              "1                                                  2                                                                  \n",
              "2                                                  2                                                                  \n",
              "3                                                  2                                                                  \n",
              "4                                                  2                                                                  \n",
              "\n",
              "  latitude of box top longitude of box right side latitude of box bottom  \\\n",
              "0              -57.94                    -144.555                -66.748   \n",
              "1              -58.15                     -130.43                 -66.98   \n",
              "2              -51.66                     -143.26                 -60.43   \n",
              "3              -53.31                      -58.41                 -62.11   \n",
              "4               -59.4                      -79.76                 -68.26   \n",
              "\n",
              "  longitude of box left side file name of PNG  \n",
              "0                   -153.348   200811_HS1.png  \n",
              "1                    -139.22   200811_HS2.png  \n",
              "2                    -152.06   200810_HS1.png  \n",
              "3                     -67.23   200813_HS1.png  \n",
              "4                     -88.58   200814_HS1.png  "
            ]
          },
          "execution_count": 3,
          "metadata": {},
          "output_type": "execute_result"
        }
      ],
      "source": [
        "# Katie\n",
        "\n",
        "# Read in of dataframe for Spring 2020, 2021, and 2022\n",
        "# File paths for each pickle file\n",
        "#this includes all of the clean images of size 1000 x 1000 pixels\n",
        "pickle_path_2022 = '/content/drive/Shareddrives/FIRE-CC/pkl files/Spring2022PolarLowsClean.pkl'\n",
        "pickle_path_2021 = '/content/drive/Shareddrives/FIRE-CC/pkl files/Spring2021PolarLowsClean.pkl'\n",
        "pickle_path_2020= '/content/drive/Shareddrives/FIRE-CC/pkl files/Spring2020PolarLowsClean.pkl'\n",
        "\n",
        "#loads the dataframe in the pickle files into our dataframe\n",
        "with open(pickle_path_2022, 'rb') as f:\n",
        "  df_2022 = pickle.load(f)\n",
        "with open(pickle_path_2021, 'rb') as f:\n",
        "  df_2021 = pickle.load(f)\n",
        "with open(pickle_path_2020, 'rb') as f:\n",
        "  df_2020 = pickle.load(f)\n",
        "\n",
        "# Change df_2020 columns to match 2021 and 2022\n",
        "df_2020 = pd.DataFrame(df_2020[['your last name', 'date of Polar Low Occurance', 'Aqua or Terra?',\n",
        "       'How confident are you that this is actually a polar low [1 for low, 2 for high]',\n",
        "       'latitude of box top', 'longitude of box right side',\n",
        "       'latitude of box bottom', 'longitude of box left side',\n",
        "       'file name of PNG']])\n",
        "df_2020.columns = df_2022.columns.values\n",
        "\n",
        "# Combine all data from each year into one dataframe\n",
        "frames = [df_2022, df_2021, df_2020]\n",
        "df_all = pd.concat(frames)\n",
        "df_all.reset_index(inplace=True, drop=True)\n",
        "\n",
        "df_all.head()"
      ]
    },
    {
      "cell_type": "markdown",
      "metadata": {
        "id": "6sObBWLc6M5f"
      },
      "source": [
        "We took previous semesters filtered pickle files and used the image files in the dataframe to create polar low and non polar low lists\n",
        "\n",
        "The images that were listed in the pickle file were in the Snapshots and NonPolarLowSnaphots folder in our Google drive. We took those images and put then into two lists: PL_files and NPL_files. We then used the lists to organize the image files into our drive into polar low and non polar low image folders. We commented out the code to create the folders so that it would not create new folders within the drive every time we run the code. We will later use these images as our testing and training data for our model."
      ]
    },
    {
      "cell_type": "code",
      "execution_count": null,
      "metadata": {
        "colab": {
          "base_uri": "https://localhost:8080/"
        },
        "id": "ZgDFwspe52tE",
        "outputId": "5372d4e4-7839-4991-cf0b-d8248313310d"
      },
      "outputs": [
        {
          "name": "stdout",
          "output_type": "stream",
          "text": [
            "Total number of files in folders is equal to number of data entries in data frame.\n",
            "696\n",
            "Number of total PL files to from the dataframe: \n",
            "489\n",
            "Number of total NPL files to from the dataframe: \n",
            "207\n"
          ]
        }
      ],
      "source": [
        "# Katie\n",
        "\n",
        "# Gather file names of all image files in Google Drive. We want to have files only of file names provided in our data frame.\n",
        "og_snapshot_files = os.listdir('/content/drive/Shareddrives/FIRE-CC/Polar Lows/Snapshots/')\n",
        "og_NPLsnapshot_files = os.listdir('/content/drive/Shareddrives/FIRE-CC/Polar Lows/NonPolarLowSnapshots/')\n",
        "images = df_all['file name of PNG'].tolist()\n",
        "\n",
        "PL_files = []\n",
        "NPL_files = []\n",
        "#adds to the list all of the images which are in the polar lows folder which are also\n",
        "#in the dataframe of clean images gotten from the pickle file.\n",
        "for file in og_snapshot_files:\n",
        "  if file in images:\n",
        "    PL_files.append(file)\n",
        "\n",
        "#adds to the list all of the images which are in the non polar lows folder\n",
        "#which are also in the dataframe of clean images gotten from the pickle file.\n",
        "for file in og_NPLsnapshot_files:\n",
        "  if file in images:\n",
        "    NPL_files.append(file)\n",
        "\n",
        "if ((len(PL_files) + len(NPL_files)) == df_all.shape[0]):\n",
        "  print(\"Total number of files in folders is equal to number of data entries in data frame.\")\n",
        "  print(df_all.shape[0])\n",
        "  print(\"Number of total PL files to from the dataframe: \")\n",
        "  print(len(PL_files))\n",
        "  print(\"Number of total NPL files to from the dataframe: \")\n",
        "  print(len(NPL_files))\n",
        "else:\n",
        "  print(\"The number of files is not correct.\")\n",
        "\n",
        "## Copy images from Snapshots and NonPolarLowSnapshots folders to our own folders (only needs to be done once)\n",
        "\n",
        "## PL images\n",
        "#source = PL_files\n",
        "#i = 0\n",
        "#for image in PL_files:\n",
        "#  source = '/content/gdrive/Shareddrives/FIRE-CC/Polar Lows/Snapshots/' + str(PL_files[i])\n",
        "#  destination = '/content/gdrive/Shareddrives/FIRE-CC/FIRE298/2022/Polar Home Depot/Teachable Machine v1/PL_files/'\n",
        "#  shutil.copy(source, destination)\n",
        "#  i = i + 1\n",
        "\n",
        "## NPL images\n",
        "#source = NPL_files\n",
        "#i = 0\n",
        "#for image in NPL_files:\n",
        "#  source = '/content/gdrive/Shareddrives/FIRE-CC/Polar Lows/NonPolarLowSnapshots/' + str(NPL_files[i])\n",
        "#  destination = '/content/gdrive/Shareddrives/FIRE-CC/FIRE298/2022/Polar Home Depot/Teachable Machine v1/NPL_files/'\n",
        "#  shutil.copy(source, destination)\n",
        "#  i = i + 1\n"
      ]
    },
    {
      "cell_type": "markdown",
      "metadata": {
        "id": "kdLSNcEFM3TO"
      },
      "source": [
        "The block of code below creates lists for testing and training both polar low and non polar low images. It then imported those images into folders within our Google drive. This code is commented out so it does not create duplicate folders each time it is run."
      ]
    },
    {
      "cell_type": "code",
      "execution_count": null,
      "metadata": {
        "id": "ifWl9XRl-kmF"
      },
      "outputs": [],
      "source": [
        "# Katie\n",
        "\n",
        "# Testing and Training split with original sized data\n",
        "# Data is spit 80% training and 20% testing\n",
        "\n",
        "# Splitting test/train data for PL files\n",
        "PL_x = PL_files\n",
        "PL_y = []\n",
        "for index in PL_x:\n",
        "  PL_y.append('PL')\n",
        "PL_x_train, PL_x_test, PL_y_train, PL_y_test = train_test_split(PL_x, PL_y, test_size=0.20, random_state=42)\n",
        "\n",
        "# Splitting test/train data for NPL files\n",
        "NPL_x = NPL_files\n",
        "NPL_y = []\n",
        "for index in NPL_x:\n",
        "  NPL_y.append('NPL')\n",
        "NPL_x_train, NPL_x_test, NPL_y_train, NPL_y_test = train_test_split(NPL_x, NPL_y, test_size=0.20, random_state=42)\n",
        "\n",
        "\n",
        "## Copy images from testing and training split into our drive folders (only needs to be run once)\n",
        "## *** Folders have since been manipulated and change so will not be exactly reflected in drive\n",
        "\n",
        "## PL training images\n",
        "#source = PL_x_train\n",
        "#i = 0\n",
        "#for image in PL_x_train:\n",
        "#  source = '/content/gdrive/Shareddrives/FIRE-CC/FIRE298/2022/Polar Home Depot/Teachable Machine v1/PL_files/' + str(PL_x_train[i])\n",
        "#  destination = '/content/gdrive/Shareddrives/FIRE-CC/FIRE298/2022/Polar Home Depot/Teachable Machine v1/training/PL/'\n",
        "#  shutil.copy(source, destination)\n",
        "#  i = i + 1\n",
        "\n",
        "## PL testing images\n",
        "#source = PL_x_test\n",
        "#i = 0\n",
        "#for image in PL_x_test:\n",
        "#  source = '/content/gdrive/Shareddrives/FIRE-CC/FIRE298/2022/Polar Home Depot/Teachable Machine v1/PL_files/' + str(PL_x_test[i])\n",
        "#  destination = '/content/gdrive/Shareddrives/FIRE-CC/FIRE298/2022/Polar Home Depot/Teachable Machine v1/testing/PL/'\n",
        "#  shutil.copy(source, destination)\n",
        "#  i = i + 1\n",
        "\n",
        "## NPL training images\n",
        "#source = NPL_x_train\n",
        "#i = 0\n",
        "#for image in NPL_x_train:\n",
        "#  source = '/content/gdrive/Shareddrives/FIRE-CC/FIRE298/2022/Polar Home Depot/Teachable Machine v1/NPL_files/' + str(NPL_x_train[i])\n",
        "#  destination = '/content/gdrive/Shareddrives/FIRE-CC/FIRE298/2022/Polar Home Depot/Teachable Machine v1/training/NPL/'\n",
        "#  shutil.copy(source, destination)\n",
        "#  i = i + 1\n",
        "\n",
        "## NPL testing images\n",
        "#source = NPL_x_test\n",
        "#i = 0\n",
        "#for image in NPL_x_test:\n",
        "#  source = '/content/gdrive/Shareddrives/FIRE-CC/FIRE298/2022/Polar Home Depot/Teachable Machine v1/NPL_files/' + str(NPL_x_test[i])\n",
        "#  destination = '/content/gdrive/Shareddrives/FIRE-CC/FIRE298/2022/Polar Home Depot/Teachable Machine v1/testing/NPL/'\n",
        "#  shutil.copy(source, destination)\n",
        "#  i = i + 1\n"
      ]
    },
    {
      "cell_type": "markdown",
      "metadata": {
        "id": "RJ-F_0KipEc7"
      },
      "source": [
        "# Data Preparation for AlexNet Model"
      ]
    },
    {
      "cell_type": "markdown",
      "metadata": {
        "id": "VzJI8Vl-J0pF"
      },
      "source": [
        "**Settings to pick random images - affects droput layer functionality (Bourke)**"
      ]
    },
    {
      "cell_type": "code",
      "execution_count": null,
      "metadata": {
        "id": "TrOVpjERpKb3"
      },
      "outputs": [],
      "source": [
        "#Set the random seed\n",
        "torch.manual_seed(42)\n",
        "torch.cuda.manual_seed(42)"
      ]
    },
    {
      "cell_type": "markdown",
      "metadata": {
        "id": "R8QR2SfXJbJ5"
      },
      "source": [
        "**Transforming the images to the needed dimensions so that the model can work with it (Bourke)**"
      ]
    },
    {
      "cell_type": "markdown",
      "metadata": {
        "id": "CigGK9k4g9Fz"
      },
      "source": [
        "Since this model is pretrained, we must normalize each image. This means that we need to transform our images to be like the original images which the model was trained on. This function will turn all of our images into size 224 x 224."
      ]
    },
    {
      "cell_type": "code",
      "execution_count": null,
      "metadata": {
        "id": "YryJz3S4-3hd"
      },
      "outputs": [],
      "source": [
        "simple_transform = transforms.Compose([\n",
        "    transforms.Resize((224, 224)), # 1. Reshape all images to 224x224 (though some models may require different sizes)\n",
        "    transforms.ToTensor(), # 2. Turn image values to between 0 & 1\n",
        "    transforms.Normalize(mean=[0.485, 0.456, 0.406], # 3. A mean of [0.485, 0.456, 0.406] (across each colour channel)\n",
        "                         std=[0.229, 0.224, 0.225]) # 4. A standard deviation of [0.229, 0.224, 0.225] (across each colour channel),\n",
        "])"
      ]
    },
    {
      "cell_type": "markdown",
      "metadata": {
        "id": "9-Fyw9bFJnhd"
      },
      "source": [
        "**Loading in the testing and training datasets from drive**"
      ]
    },
    {
      "cell_type": "markdown",
      "metadata": {
        "id": "SfUTJYkXjYPw"
      },
      "source": [
        "We had an 80-20 train-test split. **There are 555 training images and 139 testing images.** Here we use the paths train_dir and test_dir to create dataloaders which will later on be used to train our model.  "
      ]
    },
    {
      "cell_type": "code",
      "execution_count": null,
      "metadata": {
        "colab": {
          "base_uri": "https://localhost:8080/"
        },
        "id": "vBEU1anm-4Dj",
        "outputId": "47891c70-5ad5-42a6-d3aa-ebe19b37596d"
      },
      "outputs": [
        {
          "data": {
            "text/plain": [
              "(<torch.utils.data.dataloader.DataLoader at 0x7f3ae66accd0>,\n",
              " <torch.utils.data.dataloader.DataLoader at 0x7f3ae66acad0>,\n",
              " ['NPL', 'PL'])"
            ]
          },
          "execution_count": 10,
          "metadata": {},
          "output_type": "execute_result"
        }
      ],
      "source": [
        "# Riya\n",
        "\n",
        "# Create training and testing DataLoader's as well as get a list of class names\n",
        "train_dir = '/content/drive/Shareddrives/FIRE-CC/FIRE298/2022/Polar Home Depot/All_Images_wTestTrain/training_subs'\n",
        "test_dir = '/content/drive/Shareddrives/FIRE-CC/FIRE298/2022/Polar Home Depot/All_Images_wTestTrain/testing_subs'\n",
        "train_dataloader, test_dataloader, class_names = data_setup.create_dataloaders(train_dir = train_dir,\n",
        "                                                                               test_dir = test_dir,\n",
        "                                                                               transform=simple_transform, # resize, convert images to between 0 & 1 and normalize them\n",
        "                                                                               batch_size=32) # set mini-batch size to 32\n",
        "\n",
        "train_dataloader, test_dataloader, class_names\n"
      ]
    },
    {
      "cell_type": "markdown",
      "metadata": {
        "id": "64Gll-0LBT0_"
      },
      "source": [
        "# Training and Testing of Methods and Models"
      ]
    },
    {
      "cell_type": "markdown",
      "metadata": {
        "id": "XzPDOOyGAYsx"
      },
      "source": [
        "## AlexNet Transfer Learning Implementation"
      ]
    },
    {
      "cell_type": "markdown",
      "metadata": {
        "id": "_A4BQP2oNNrV"
      },
      "source": [
        "**Loading in a PyTorch pre-trained model.**"
      ]
    },
    {
      "cell_type": "code",
      "execution_count": null,
      "metadata": {
        "id": "xVjxSWqtZQEF"
      },
      "outputs": [],
      "source": [
        "# Shraddha\n",
        "\n",
        "device = \"cuda\" if torch.cuda.is_available() else \"cpu\"\n",
        "model = torch.hub.load('pytorch/vision:v0.10.0', 'alexnet', pretrained=True).to(device)\n",
        "model.eval()"
      ]
    },
    {
      "cell_type": "markdown",
      "metadata": {
        "id": "C2MNKv95Bb6Z"
      },
      "source": [
        "**Prepare the model to work for our purposes.**"
      ]
    },
    {
      "cell_type": "markdown",
      "metadata": {
        "id": "mPkBpb4uquIr"
      },
      "source": [
        "Here we are freezing some layers in the model. This is because we do not want the weights associated with these layers to be changed during training."
      ]
    },
    {
      "cell_type": "code",
      "execution_count": null,
      "metadata": {
        "id": "EPGehdGLnmH_"
      },
      "outputs": [],
      "source": [
        "# Shraddha\n",
        "\n",
        "# freeze the base layers in the features section\n",
        "for param in model.features.parameters():\n",
        "    param.requires_grad = False"
      ]
    },
    {
      "cell_type": "markdown",
      "metadata": {
        "id": "45_lhOTQq8-l"
      },
      "source": [
        "The original AlexNet model can classify images into a thousand classes, but we only want it to classify our images as polar lows or non-polar lows (two classes). Here, we make this adjustment to the model by specifying the number of out_features as 2."
      ]
    },
    {
      "cell_type": "code",
      "execution_count": null,
      "metadata": {
        "id": "b1smWwTJmdVz"
      },
      "outputs": [],
      "source": [
        "# Shraddha\n",
        "\n",
        "# Changing the last layer to have only two classes\n",
        "output_shape = 2\n",
        "model.classifier = torch.nn.Sequential(\n",
        "  torch.nn.Dropout(p=0.2, inplace=True),\n",
        "  torch.nn.Linear(in_features=9216,\n",
        "                  out_features= 2, # same number of output units as our number of classes\n",
        "                  bias=True)).to(device)"
      ]
    },
    {
      "cell_type": "markdown",
      "metadata": {
        "id": "XwYvQzVcBklk"
      },
      "source": [
        "**Train model to work with our data.**"
      ]
    },
    {
      "cell_type": "markdown",
      "metadata": {
        "id": "zKEZkkPVsGZx"
      },
      "source": [
        "Here we are defining the loss function that our model will run with (Bourke)"
      ]
    },
    {
      "cell_type": "code",
      "execution_count": null,
      "metadata": {
        "id": "5-sPNUjko8gV"
      },
      "outputs": [],
      "source": [
        "# Define loss and optimizer\n",
        "loss_fn = torch.nn.CrossEntropyLoss()\n",
        "#adjust the learning rate to 0.0001 for a higher AlexNet accuracy (may not be a higher overall accuracy)\n",
        "optimizer = torch.optim.Adam(model.parameters(), lr=0.001)"
      ]
    },
    {
      "cell_type": "markdown",
      "metadata": {
        "id": "cfS2MpRjrdPJ"
      },
      "source": [
        "This function trains the model. Epochs represents the number of times the training dataset runs through the model."
      ]
    },
    {
      "cell_type": "code",
      "execution_count": null,
      "metadata": {
        "colab": {
          "base_uri": "https://localhost:8080/",
          "height": 138,
          "referenced_widgets": [
            "d52a9ceb7ebf4907a075499b5c4cbc47",
            "0014811dbbde4cc68ec96060031cfb42",
            "98fe9d3bfe314094b165243ba10f7a1b",
            "dd97c20500524e1784cd8c92cc7a94f2",
            "dcd902650c2d427d958837eb48468f56",
            "595d9787d10c4089a10d50e37375e442",
            "daff86c40db34ba0808a7afd0a2bc760",
            "531d11272e5141529b86b35c96937bff",
            "4681b4675f5e46dd81e25807ad6f8387",
            "2af3d6f0ef9841cb91ef4440e5fd5013",
            "0ff3691207064fee8eae19cd376ea591"
          ]
        },
        "id": "_B584eFM7BxA",
        "outputId": "089ba004-7332-43a8-e8c1-4205ce0dabd5"
      },
      "outputs": [
        {
          "data": {
            "application/vnd.jupyter.widget-view+json": {
              "model_id": "d52a9ceb7ebf4907a075499b5c4cbc47",
              "version_major": 2,
              "version_minor": 0
            },
            "text/plain": [
              "  0%|          | 0/5 [00:00<?, ?it/s]"
            ]
          },
          "metadata": {},
          "output_type": "display_data"
        },
        {
          "name": "stdout",
          "output_type": "stream",
          "text": [
            "Epoch: 1 | train_loss: 0.9267 | train_acc: 0.7348 | test_loss: 0.5727 | test_acc: 0.8210\n",
            "Epoch: 2 | train_loss: 0.3501 | train_acc: 0.8804 | test_loss: 0.5112 | test_acc: 0.8830\n",
            "Epoch: 3 | train_loss: 0.1579 | train_acc: 0.9444 | test_loss: 0.4786 | test_acc: 0.8705\n",
            "Epoch: 4 | train_loss: 0.0675 | train_acc: 0.9774 | test_loss: 0.4720 | test_acc: 0.8824\n",
            "Epoch: 5 | train_loss: 0.0376 | train_acc: 0.9913 | test_loss: 0.4740 | test_acc: 0.9131\n"
          ]
        }
      ],
      "source": [
        "# Riya\n",
        "\n",
        "model_results = engine.train(model=model,\n",
        "                       train_dataloader=train_dataloader,\n",
        "                       test_dataloader= test_dataloader,\n",
        "                       optimizer=optimizer,\n",
        "                       loss_fn=loss_fn,\n",
        "                       epochs=5,\n",
        "                       device=device)"
      ]
    },
    {
      "cell_type": "markdown",
      "metadata": {
        "id": "Qm9I-oF8B6U-"
      },
      "source": [
        "###Make Predictions\n",
        "\n"
      ]
    },
    {
      "cell_type": "markdown",
      "metadata": {
        "id": "-KfRHCGrvOns"
      },
      "source": [
        "Here, we are running the testing data through the model and obtaining the predictions from AlexNet."
      ]
    },
    {
      "cell_type": "code",
      "execution_count": null,
      "metadata": {
        "colab": {
          "base_uri": "https://localhost:8080/",
          "height": 156,
          "referenced_widgets": [
            "6021332ffad844b187b37b6b93737418",
            "d93dca3a04094e43b8fae0513cf843d2",
            "ff0b59ec2e9d4a2e97ce485f50a1ee5d",
            "ce980a8fc8214d078f3c5bc8ab29bd70",
            "ed6ceec77e02476fa52e6f6f1b1e62e0",
            "22a5b0fa738048cdb023fbe16615e3d1",
            "83ca048bc15c4795b25b316b2a0da809",
            "6a71a527093e4d41bd251e9973c337ab",
            "c4c123e1f405483bb2393d73a637d981",
            "5ee4832720ce46d09f129cc1b6e1592f",
            "64bdf85037ee45fda22944c7d5f9215b"
          ]
        },
        "id": "tc4HQdv6BH1R",
        "outputId": "0db93ad5-6cce-4701-ac90-a12645f97424"
      },
      "outputs": [
        {
          "data": {
            "application/vnd.jupyter.widget-view+json": {
              "model_id": "6021332ffad844b187b37b6b93737418",
              "version_major": 2,
              "version_minor": 0
            },
            "text/plain": [
              "  0%|          | 0/5 [00:00<?, ?it/s]"
            ]
          },
          "metadata": {},
          "output_type": "display_data"
        },
        {
          "data": {
            "text/plain": [
              "tensor([0, 0, 0, 0, 1, 0, 0, 0, 0, 0, 0, 0, 0, 0, 1, 0, 1, 0, 0, 0, 0, 0, 0, 0,\n",
              "        0, 0, 0, 0, 0, 0, 0, 1, 1, 1, 0, 0, 1, 1, 0, 0, 1, 1, 0, 0, 1, 1, 1, 1,\n",
              "        1, 1, 1, 1, 1, 1, 1, 1, 1, 1, 1, 1, 1, 1, 1, 1, 1, 1, 1, 1, 1, 1, 1, 1,\n",
              "        1, 1, 1, 1, 1, 1, 1, 1, 1, 1, 1, 1, 1, 0, 1, 1, 1, 1, 1, 1, 1, 1, 1, 1,\n",
              "        1, 1, 1, 1, 1, 1, 1, 1, 1, 1, 1, 1, 1, 1, 1, 1, 1, 1, 1, 1, 1, 1, 1, 1,\n",
              "        1, 1, 1, 1, 1, 1, 1, 1, 0, 1, 1, 1, 1, 1, 1, 1, 1, 1, 1])"
            ]
          },
          "execution_count": 16,
          "metadata": {},
          "output_type": "execute_result"
        }
      ],
      "source": [
        "# Make predictions on the entire test dataset\n",
        "test_preds = []\n",
        "model.eval()\n",
        "with torch.inference_mode():\n",
        "  # Loop through the batches in the test dataloader\n",
        "  for X, y in tqdm(test_dataloader):\n",
        "    X, y = X.to(device), y.to(device)\n",
        "    # Pass the data through the model\n",
        "    test_logits = model(X)\n",
        "\n",
        "    # Convert the pred logits to pred probs\n",
        "    pred_probs = torch.softmax(test_logits, dim=1)\n",
        "\n",
        "    # Convert the pred probs into pred labels\n",
        "    pred_labels = torch.argmax(pred_probs, dim=1)\n",
        "\n",
        "    # Add the pred labels to test preds list\n",
        "    test_preds.append(pred_labels)\n",
        "\n",
        "# Concatenate the test preds and put them on the CPU\n",
        "test_preds = torch.cat(test_preds).cpu()\n",
        "test_preds"
      ]
    },
    {
      "cell_type": "markdown",
      "metadata": {
        "id": "Wwh6ky2FB_Hx"
      },
      "source": [
        "### Visual Analysis for AlexNet Model Results"
      ]
    },
    {
      "cell_type": "code",
      "execution_count": null,
      "metadata": {
        "colab": {
          "base_uri": "https://localhost:8080/"
        },
        "id": "brs_ByZ2CGcX",
        "outputId": "d5c8e4c3-5c14-4fff-daec-443c1b23062b"
      },
      "outputs": [
        {
          "data": {
            "text/plain": [
              "tensor([0, 0, 0, 0, 0, 0, 0, 0, 0, 0, 0, 0, 0, 0, 0, 0, 0, 0, 0, 0, 0, 0, 0, 0,\n",
              "        0, 0, 0, 0, 0, 0, 0, 0, 0, 0, 0, 0, 0, 0, 0, 0, 0, 0, 0, 0, 1, 1, 1, 1,\n",
              "        1, 1, 1, 1, 1, 1, 1, 1, 1, 1, 1, 1, 1, 1, 1, 1, 1, 1, 1, 1, 1, 1, 1, 1,\n",
              "        1, 1, 1, 1, 1, 1, 1, 1, 1, 1, 1, 1, 1, 1, 1, 1, 1, 1, 1, 1, 1, 1, 1, 1,\n",
              "        1, 1, 1, 1, 1, 1, 1, 1, 1, 1, 1, 1, 1, 1, 1, 1, 1, 1, 1, 1, 1, 1, 1, 1,\n",
              "        1, 1, 1, 1, 1, 1, 1, 1, 1, 1, 1, 1, 1, 1, 1, 1, 1, 1, 1])"
            ]
          },
          "execution_count": 17,
          "metadata": {},
          "output_type": "execute_result"
        }
      ],
      "source": [
        "# Get the truth labels for test dataset\n",
        "test_truth = torch.cat([y for X, y in test_dataloader])\n",
        "test_truth"
      ]
    },
    {
      "cell_type": "markdown",
      "metadata": {
        "id": "NMkq6LSNWWmO"
      },
      "source": [
        "A confusion matrix is created in order to determine the accuracy of the AlexNet model,. The Confusion matrix displays the number of correctly and incorrectly classified polar lows images and the number of correctly and incorrectly classified non polar lows images. From the confusion matrix, it can be concluded that the model can correctly predict 97% of PL images and 77% of NPL images."
      ]
    },
    {
      "cell_type": "code",
      "execution_count": null,
      "metadata": {
        "colab": {
          "base_uri": "https://localhost:8080/",
          "height": 225
        },
        "id": "WDre1x9nCUZE",
        "outputId": "b53f8cd5-701e-47dd-e40f-b9cb3de96eb8"
      },
      "outputs": [
        {
          "data": {
            "image/png": "[encoded data removed]",
            "text/plain": [
              "<Figure size 288x201.6 with 1 Axes>"
            ]
          },
          "metadata": {
            "needs_background": "light"
          },
          "output_type": "display_data"
        }
      ],
      "source": [
        "# Riya\n",
        "\n",
        "# Setup confusion matrix instance\n",
        "confmat = ConfusionMatrix(num_classes=len(class_names))\n",
        "confmat_tensor = confmat(preds=test_preds,\n",
        "                         target=test_truth)\n",
        "\n",
        "# Plot the confusion matrix\n",
        "fig, ax = plot_confusion_matrix(\n",
        "    conf_mat=confmat_tensor.numpy(), # matplotlib likes working with NumPy\n",
        "    class_names=class_names,\n",
        "    figsize=(4, 2.8)\n",
        ")"
      ]
    },
    {
      "cell_type": "markdown",
      "metadata": {
        "id": "M9m8RCE3dD6u"
      },
      "source": [
        "## AlexNet Model Performance\n"
      ]
    },
    {
      "cell_type": "markdown",
      "metadata": {
        "id": "bJC8EABj58j8"
      },
      "source": [
        "An epoch is the number of times that the model runs through the entire dataset.\n",
        "The graphs below will compare this hyperparameter with two different indicators of how well our model works.\n",
        "\n",
        "### Epochs vs. Loss (Bourke)\n",
        "\n",
        "Loss is the summation of errors that our model produces. This graph will compare the training loss and the testing loss as the number of epochs increases. A model with a lower loss is considered better than one with a higher loss.\n",
        "\n",
        "### Epochs vs. Accuracy (Bourke)\n",
        "\n",
        "Accuracy is the number of images our model correctly identifies. This graph will compare the training and testing accuracy as the number of epochs increases. The higher the accuracy, the better the model.\n",
        "\n",
        "We are creating these graphs in order to determine the best number of epochs to use when testing and training our images. The goal is to find an epoch in which the accuracy is high and loss is low while also avoiding overfitting. Overfitting can occur when a model is trained on the same images too many times and has trouble predicting images outside of the training dataset."
      ]
    },
    {
      "cell_type": "code",
      "execution_count": null,
      "metadata": {
        "colab": {
          "base_uri": "https://localhost:8080/",
          "height": 476
        },
        "id": "FuPtDqrKaNOl",
        "outputId": "0163667f-2bc6-4603-b9d8-bf27feb92318"
      },
      "outputs": [
        {
          "name": "stdout",
          "output_type": "stream",
          "text": [
            "[INFO] Couldn't find helper_functions.py, downloading...\n"
          ]
        },
        {
          "data": {
            "image/png": "[encoded data removed]",
            "text/plain": [
              "<Figure size 1080x504 with 2 Axes>"
            ]
          },
          "metadata": {
            "needs_background": "light"
          },
          "output_type": "display_data"
        }
      ],
      "source": [
        "# Riya\n",
        "\n",
        "# Get the plot_loss_curves() function from helper_functions.py, download the file if we don't have it\n",
        "try:\n",
        "    from helper_functions import plot_loss_curves\n",
        "except:\n",
        "    print(\"[INFO] Couldn't find helper_functions.py, downloading...\")\n",
        "    with open(\"helper_functions.py\", \"wb\") as f:\n",
        "        import requests\n",
        "        request = requests.get(\"https://raw.githubusercontent.com/mrdbourke/pytorch-deep-learning/main/helper_functions.py\")\n",
        "        f.write(request.content)\n",
        "    from helper_functions import plot_loss_curves\n",
        "\n",
        "# Plot the loss curves of our model\n",
        "plot_loss_curves(model_results)\n"
      ]
    },
    {
      "cell_type": "markdown",
      "metadata": {
        "id": "679oiUzml2LV"
      },
      "source": [
        "According to the graph, the testing loss doesn’t change much as the number of epochs increases, however, the training loss decreases significantly. Additionally, testing accuracy decreases slightly as the number of epochs increases, however, the training accuracy increases significantly.\n",
        "\n",
        "From the graphs we can conclude to not run our model with more than 5 epochs for two reasons:\n",
        "\n",
        "1) Since AlexNet is a pre-trained CNN, a large number of epochs is not necessary to train the model on our dataset.\n",
        "\n",
        "2) When we train the model with a larger number of epochs, it begins to overfit, possibly because of the smaller size of our dataset."
      ]
    },
    {
      "cell_type": "markdown",
      "metadata": {
        "id": "VvfMCytx6wG4"
      },
      "source": [
        "# Data for Decision Tree"
      ]
    },
    {
      "cell_type": "markdown",
      "metadata": {
        "id": "JVGw_glcn2FY"
      },
      "source": [
        "Decision trees are another type of supervised learning that we will implement to further improve the accuracy of classifying our satellite imagery.\n",
        "\n",
        "We plan to take the numeric prediction result from each testing image along with the image's latitude and longitude data (retrieved from our original dataframe df_all) and feed it into the tree to produce an even more exact classification."
      ]
    },
    {
      "cell_type": "markdown",
      "metadata": {
        "id": "MM5fF1OBbNpV"
      },
      "source": [
        "\n",
        "The following code turns our model predictions into a dictionary with the following data attributed to each image: the image path,\tclass name,\tpredition probability, prediction class, and if it was correctly classified."
      ]
    },
    {
      "cell_type": "code",
      "execution_count": null,
      "metadata": {
        "id": "FZRjZE-hVBY0"
      },
      "outputs": [],
      "source": [
        "# Riya\n",
        "\n",
        "# Get all test data paths\n",
        "from pathlib import Path\n",
        "test_data_paths = list(Path(test_dir).glob(\"*/*.png\"))\n",
        "test_labels = [path.parent.stem for path in test_data_paths]\n",
        "\n",
        "# Create a function to return a list of dictionaries with sample, label, prediction, pred prob\n",
        "def pred_and_store(test_paths, model, transform, class_names, device):\n",
        "  test_pred_list = []\n",
        "  for path in tqdm(test_paths):\n",
        "    # Create empty dict to store info for each sample\n",
        "    pred_dict = {}\n",
        "\n",
        "    # Get sample path\n",
        "    pred_dict[\"image_path\"] = path\n",
        "\n",
        "    # Get class name\n",
        "    class_name = path.parent.stem\n",
        "    pred_dict[\"class_name\"] = class_name\n",
        "\n",
        "    # Get prediction and prediction probability\n",
        "    from PIL import Image\n",
        "    img = Image.open(path).convert('RGB') # open image, added .convert to match tensor sizes\n",
        "    transformed_image = transform(img).unsqueeze(0) # transform image and add batch dimension\n",
        "    model.eval()\n",
        "    with torch.inference_mode():\n",
        "      pred_logit = model(transformed_image.to(device))\n",
        "      pred_prob = torch.softmax(pred_logit, dim=1)\n",
        "      pred_label = torch.argmax(pred_prob, dim=1)\n",
        "      pred_class = class_names[pred_label.cpu()]\n",
        "\n",
        "      # Make sure things in the dictionary are back on the CPU\n",
        "      pred_dict[\"pred_prob\"] = pred_prob.unsqueeze(0).max().cpu().item()\n",
        "      pred_dict[\"pred_class\"] = pred_class\n",
        "\n",
        "    # Does the pred match the true label?\n",
        "    pred_dict[\"correct\"] = class_name == pred_class\n",
        "\n",
        "    # print(pred_dict)\n",
        "    # Add the dictionary to the list of preds\n",
        "    test_pred_list.append(pred_dict)\n",
        "\n",
        "  return test_pred_list\n",
        "\n",
        "test_pred_dicts = pred_and_store(test_paths=test_data_paths,\n",
        "                                 model=model,\n",
        "                                 transform=simple_transform,\n",
        "                                 class_names=class_names,\n",
        "                                 device=device)\n",
        "\n",
        "test_pred_dicts[:5] # show portion of list of dictionaries"
      ]
    },
    {
      "cell_type": "code",
      "execution_count": null,
      "metadata": {
        "colab": {
          "base_uri": "https://localhost:8080/",
          "height": 206
        },
        "id": "fgErfsYmVLyK",
        "outputId": "c4990085-9152-4e60-8121-80ae321dbe40"
      },
      "outputs": [
        {
          "data": {
            "text/html": [
              "\n",
              "  <div id=\"df-a8d51d97-1d15-4ced-adfe-68ad4ef82674\">\n",
              "    <div class=\"colab-df-container\">\n",
              "      <div>\n",
              "<style scoped>\n",
              "    .dataframe tbody tr th:only-of-type {\n",
              "        vertical-align: middle;\n",
              "    }\n",
              "\n",
              "    .dataframe tbody tr th {\n",
              "        vertical-align: top;\n",
              "    }\n",
              "\n",
              "    .dataframe thead th {\n",
              "        text-align: right;\n",
              "    }\n",
              "</style>\n",
              "<table border=\"1\" class=\"dataframe\">\n",
              "  <thead>\n",
              "    <tr style=\"text-align: right;\">\n",
              "      <th></th>\n",
              "      <th>image_path</th>\n",
              "      <th>class_name</th>\n",
              "      <th>pred_prob</th>\n",
              "      <th>pred_class</th>\n",
              "      <th>correct</th>\n",
              "    </tr>\n",
              "  </thead>\n",
              "  <tbody>\n",
              "    <tr>\n",
              "      <th>0</th>\n",
              "      <td>/content/drive/Shareddrives/FIRE-CC/FIRE298/20...</td>\n",
              "      <td>PL</td>\n",
              "      <td>0.999588</td>\n",
              "      <td>PL</td>\n",
              "      <td>True</td>\n",
              "    </tr>\n",
              "    <tr>\n",
              "      <th>1</th>\n",
              "      <td>/content/drive/Shareddrives/FIRE-CC/FIRE298/20...</td>\n",
              "      <td>PL</td>\n",
              "      <td>0.834308</td>\n",
              "      <td>PL</td>\n",
              "      <td>True</td>\n",
              "    </tr>\n",
              "    <tr>\n",
              "      <th>2</th>\n",
              "      <td>/content/drive/Shareddrives/FIRE-CC/FIRE298/20...</td>\n",
              "      <td>PL</td>\n",
              "      <td>0.999881</td>\n",
              "      <td>PL</td>\n",
              "      <td>True</td>\n",
              "    </tr>\n",
              "    <tr>\n",
              "      <th>3</th>\n",
              "      <td>/content/drive/Shareddrives/FIRE-CC/FIRE298/20...</td>\n",
              "      <td>PL</td>\n",
              "      <td>1.000000</td>\n",
              "      <td>PL</td>\n",
              "      <td>True</td>\n",
              "    </tr>\n",
              "    <tr>\n",
              "      <th>4</th>\n",
              "      <td>/content/drive/Shareddrives/FIRE-CC/FIRE298/20...</td>\n",
              "      <td>PL</td>\n",
              "      <td>0.964951</td>\n",
              "      <td>PL</td>\n",
              "      <td>True</td>\n",
              "    </tr>\n",
              "  </tbody>\n",
              "</table>\n",
              "</div>\n",
              "      <button class=\"colab-df-convert\" onclick=\"convertToInteractive('df-a8d51d97-1d15-4ced-adfe-68ad4ef82674')\"\n",
              "              title=\"Convert this dataframe to an interactive table.\"\n",
              "              style=\"display:none;\">\n",
              "        \n",
              "  <svg xmlns=\"http://www.w3.org/2000/svg\" height=\"24px\"viewBox=\"0 0 24 24\"\n",
              "       width=\"24px\">\n",
              "    <path d=\"M0 0h24v24H0V0z\" fill=\"none\"/>\n",
              "    <path d=\"M18.56 5.44l.94 2.06.94-2.06 2.06-.94-2.06-.94-.94-2.06-.94 2.06-2.06.94zm-11 1L8.5 8.5l.94-2.06 2.06-.94-2.06-.94L8.5 2.5l-.94 2.06-2.06.94zm10 10l.94 2.06.94-2.06 2.06-.94-2.06-.94-.94-2.06-.94 2.06-2.06.94z\"/><path d=\"M17.41 7.96l-1.37-1.37c-.4-.4-.92-.59-1.43-.59-.52 0-1.04.2-1.43.59L10.3 9.45l-7.72 7.72c-.78.78-.78 2.05 0 2.83L4 21.41c.39.39.9.59 1.41.59.51 0 1.02-.2 1.41-.59l7.78-7.78 2.81-2.81c.8-.78.8-2.07 0-2.86zM5.41 20L4 18.59l7.72-7.72 1.47 1.35L5.41 20z\"/>\n",
              "  </svg>\n",
              "      </button>\n",
              "      \n",
              "  <style>\n",
              "    .colab-df-container {\n",
              "      display:flex;\n",
              "      flex-wrap:wrap;\n",
              "      gap: 12px;\n",
              "    }\n",
              "\n",
              "    .colab-df-convert {\n",
              "      background-color: #E8F0FE;\n",
              "      border: none;\n",
              "      border-radius: 50%;\n",
              "      cursor: pointer;\n",
              "      display: none;\n",
              "      fill: #1967D2;\n",
              "      height: 32px;\n",
              "      padding: 0 0 0 0;\n",
              "      width: 32px;\n",
              "    }\n",
              "\n",
              "    .colab-df-convert:hover {\n",
              "      background-color: #E2EBFA;\n",
              "      box-shadow: 0px 1px 2px rgba(60, 64, 67, 0.3), 0px 1px 3px 1px rgba(60, 64, 67, 0.15);\n",
              "      fill: #174EA6;\n",
              "    }\n",
              "\n",
              "    [theme=dark] .colab-df-convert {\n",
              "      background-color: #3B4455;\n",
              "      fill: #D2E3FC;\n",
              "    }\n",
              "\n",
              "    [theme=dark] .colab-df-convert:hover {\n",
              "      background-color: #434B5C;\n",
              "      box-shadow: 0px 1px 3px 1px rgba(0, 0, 0, 0.15);\n",
              "      filter: drop-shadow(0px 1px 2px rgba(0, 0, 0, 0.3));\n",
              "      fill: #FFFFFF;\n",
              "    }\n",
              "  </style>\n",
              "\n",
              "      <script>\n",
              "        const buttonEl =\n",
              "          document.querySelector('#df-a8d51d97-1d15-4ced-adfe-68ad4ef82674 button.colab-df-convert');\n",
              "        buttonEl.style.display =\n",
              "          google.colab.kernel.accessAllowed ? 'block' : 'none';\n",
              "\n",
              "        async function convertToInteractive(key) {\n",
              "          const element = document.querySelector('#df-a8d51d97-1d15-4ced-adfe-68ad4ef82674');\n",
              "          const dataTable =\n",
              "            await google.colab.kernel.invokeFunction('convertToInteractive',\n",
              "                                                     [key], {});\n",
              "          if (!dataTable) return;\n",
              "\n",
              "          const docLinkHtml = 'Like what you see? Visit the ' +\n",
              "            '<a target=\"_blank\" href=https://colab.research.google.com/notebooks/data_table.ipynb>data table notebook</a>'\n",
              "            + ' to learn more about interactive tables.';\n",
              "          element.innerHTML = '';\n",
              "          dataTable['output_type'] = 'display_data';\n",
              "          await google.colab.output.renderOutput(dataTable, element);\n",
              "          const docLink = document.createElement('div');\n",
              "          docLink.innerHTML = docLinkHtml;\n",
              "          element.appendChild(docLink);\n",
              "        }\n",
              "      </script>\n",
              "    </div>\n",
              "  </div>\n",
              "  "
            ],
            "text/plain": [
              "                                          image_path class_name  pred_prob  \\\n",
              "0  /content/drive/Shareddrives/FIRE-CC/FIRE298/20...         PL   0.999588   \n",
              "1  /content/drive/Shareddrives/FIRE-CC/FIRE298/20...         PL   0.834308   \n",
              "2  /content/drive/Shareddrives/FIRE-CC/FIRE298/20...         PL   0.999881   \n",
              "3  /content/drive/Shareddrives/FIRE-CC/FIRE298/20...         PL   1.000000   \n",
              "4  /content/drive/Shareddrives/FIRE-CC/FIRE298/20...         PL   0.964951   \n",
              "\n",
              "  pred_class  correct  \n",
              "0         PL     True  \n",
              "1         PL     True  \n",
              "2         PL     True  \n",
              "3         PL     True  \n",
              "4         PL     True  "
            ]
          },
          "execution_count": 21,
          "metadata": {},
          "output_type": "execute_result"
        }
      ],
      "source": [
        "# Riya\n",
        "\n",
        "import pandas as pd\n",
        "test_pred_df = pd.DataFrame(test_pred_dicts)\n",
        "test_pred_df.head()"
      ]
    },
    {
      "cell_type": "markdown",
      "metadata": {
        "id": "rukpO7i2bYIo"
      },
      "source": [
        "Now, we take the metadata of the testing images from the df_all dataframe for our testing images and extract what features we would like to feed into the decision tree along with the AlexNet classification: latitude and longitude data.  "
      ]
    },
    {
      "cell_type": "code",
      "execution_count": null,
      "metadata": {
        "colab": {
          "base_uri": "https://localhost:8080/"
        },
        "id": "xKy6tlQQu45L",
        "outputId": "7d7c0b07-2363-469f-d42e-87e3a7b8a546"
      },
      "outputs": [
        {
          "name": "stdout",
          "output_type": "stream",
          "text": [
            "[PosixPath('/content/drive/Shareddrives/FIRE-CC/FIRE298/2022/Polar Home Depot/All_Images_wTestTrain/testing_subs/PL/201226_SP1.png'), PosixPath('/content/drive/Shareddrives/FIRE-CC/FIRE298/2022/Polar Home Depot/All_Images_wTestTrain/testing_subs/PL/181021_RJ1.png'), PosixPath('/content/drive/Shareddrives/FIRE-CC/FIRE298/2022/Polar Home Depot/All_Images_wTestTrain/testing_subs/PL/191101_RB2.png'), PosixPath('/content/drive/Shareddrives/FIRE-CC/FIRE298/2022/Polar Home Depot/All_Images_wTestTrain/testing_subs/PL/191214_AM3.png'), PosixPath('/content/drive/Shareddrives/FIRE-CC/FIRE298/2022/Polar Home Depot/All_Images_wTestTrain/testing_subs/PL/191127_VG4.png'), PosixPath('/content/drive/Shareddrives/FIRE-CC/FIRE298/2022/Polar Home Depot/All_Images_wTestTrain/testing_subs/PL/200702_TG4.png'), PosixPath('/content/drive/Shareddrives/FIRE-CC/FIRE298/2022/Polar Home Depot/All_Images_wTestTrain/testing_subs/PL/180727_RM2.png'), PosixPath('/content/drive/Shareddrives/FIRE-CC/FIRE298/2022/Polar Home Depot/All_Images_wTestTrain/testing_subs/PL/180808_DP2.png'), PosixPath('/content/drive/Shareddrives/FIRE-CC/FIRE298/2022/Polar Home Depot/All_Images_wTestTrain/testing_subs/PL/201211_CA1.png'), PosixPath('/content/drive/Shareddrives/FIRE-CC/FIRE298/2022/Polar Home Depot/All_Images_wTestTrain/testing_subs/PL/180830_AF1.png'), PosixPath('/content/drive/Shareddrives/FIRE-CC/FIRE298/2022/Polar Home Depot/All_Images_wTestTrain/testing_subs/PL/180809_DP1.png'), PosixPath('/content/drive/Shareddrives/FIRE-CC/FIRE298/2022/Polar Home Depot/All_Images_wTestTrain/testing_subs/PL/181025_JL3.png'), PosixPath('/content/drive/Shareddrives/FIRE-CC/FIRE298/2022/Polar Home Depot/All_Images_wTestTrain/testing_subs/PL/191110_RK3.png'), PosixPath('/content/drive/Shareddrives/FIRE-CC/FIRE298/2022/Polar Home Depot/All_Images_wTestTrain/testing_subs/PL/190715_RM2.png'), PosixPath('/content/drive/Shareddrives/FIRE-CC/FIRE298/2022/Polar Home Depot/All_Images_wTestTrain/testing_subs/PL/190804_SK4.png'), PosixPath('/content/drive/Shareddrives/FIRE-CC/FIRE298/2022/Polar Home Depot/All_Images_wTestTrain/testing_subs/PL/181016_RJ1.png'), PosixPath('/content/drive/Shareddrives/FIRE-CC/FIRE298/2022/Polar Home Depot/All_Images_wTestTrain/testing_subs/PL/191129_VG5.png'), PosixPath('/content/drive/Shareddrives/FIRE-CC/FIRE298/2022/Polar Home Depot/All_Images_wTestTrain/testing_subs/PL/191019_AP2.png'), PosixPath('/content/drive/Shareddrives/FIRE-CC/FIRE298/2022/Polar Home Depot/All_Images_wTestTrain/testing_subs/PL/200208_EP2.png'), PosixPath('/content/drive/Shareddrives/FIRE-CC/FIRE298/2022/Polar Home Depot/All_Images_wTestTrain/testing_subs/PL/190709_RM2.png'), PosixPath('/content/drive/Shareddrives/FIRE-CC/FIRE298/2022/Polar Home Depot/All_Images_wTestTrain/testing_subs/PL/180619_JL4.png'), PosixPath('/content/drive/Shareddrives/FIRE-CC/FIRE298/2022/Polar Home Depot/All_Images_wTestTrain/testing_subs/PL/181029_JL1.png'), PosixPath('/content/drive/Shareddrives/FIRE-CC/FIRE298/2022/Polar Home Depot/All_Images_wTestTrain/testing_subs/PL/191112_RK5.png'), PosixPath('/content/drive/Shareddrives/FIRE-CC/FIRE298/2022/Polar Home Depot/All_Images_wTestTrain/testing_subs/PL/190425_VL2.png'), PosixPath('/content/drive/Shareddrives/FIRE-CC/FIRE298/2022/Polar Home Depot/All_Images_wTestTrain/testing_subs/PL/180619_JL2.png'), PosixPath('/content/drive/Shareddrives/FIRE-CC/FIRE298/2022/Polar Home Depot/All_Images_wTestTrain/testing_subs/PL/180619_JL3.png'), PosixPath('/content/drive/Shareddrives/FIRE-CC/FIRE298/2022/Polar Home Depot/All_Images_wTestTrain/testing_subs/PL/181004_MB10.png'), PosixPath('/content/drive/Shareddrives/FIRE-CC/FIRE298/2022/Polar Home Depot/All_Images_wTestTrain/testing_subs/PL/180628_JH3.png'), PosixPath('/content/drive/Shareddrives/FIRE-CC/FIRE298/2022/Polar Home Depot/All_Images_wTestTrain/testing_subs/PL/180606_MG1.png'), PosixPath('/content/drive/Shareddrives/FIRE-CC/FIRE298/2022/Polar Home Depot/All_Images_wTestTrain/testing_subs/PL/200117_ZS8.png'), PosixPath('/content/drive/Shareddrives/FIRE-CC/FIRE298/2022/Polar Home Depot/All_Images_wTestTrain/testing_subs/PL/180621_JL1.png'), PosixPath('/content/drive/Shareddrives/FIRE-CC/FIRE298/2022/Polar Home Depot/All_Images_wTestTrain/testing_subs/PL/190415_NLS2.png'), PosixPath('/content/drive/Shareddrives/FIRE-CC/FIRE298/2022/Polar Home Depot/All_Images_wTestTrain/testing_subs/PL/200723_DP1.png'), PosixPath('/content/drive/Shareddrives/FIRE-CC/FIRE298/2022/Polar Home Depot/All_Images_wTestTrain/testing_subs/PL/190911_AK4.png'), PosixPath('/content/drive/Shareddrives/FIRE-CC/FIRE298/2022/Polar Home Depot/All_Images_wTestTrain/testing_subs/PL/180809_DP2.png'), PosixPath('/content/drive/Shareddrives/FIRE-CC/FIRE298/2022/Polar Home Depot/All_Images_wTestTrain/testing_subs/PL/181017_RJ2.png'), PosixPath('/content/drive/Shareddrives/FIRE-CC/FIRE298/2022/Polar Home Depot/All_Images_wTestTrain/testing_subs/PL/180917_AP1.png'), PosixPath('/content/drive/Shareddrives/FIRE-CC/FIRE298/2022/Polar Home Depot/All_Images_wTestTrain/testing_subs/PL/181003_MB2.png'), PosixPath('/content/drive/Shareddrives/FIRE-CC/FIRE298/2022/Polar Home Depot/All_Images_wTestTrain/testing_subs/PL/180828_AF2.png'), PosixPath('/content/drive/Shareddrives/FIRE-CC/FIRE298/2022/Polar Home Depot/All_Images_wTestTrain/testing_subs/PL/190408_RS1.png'), PosixPath('/content/drive/Shareddrives/FIRE-CC/FIRE298/2022/Polar Home Depot/All_Images_wTestTrain/testing_subs/PL/200824_SP3.png'), PosixPath('/content/drive/Shareddrives/FIRE-CC/FIRE298/2022/Polar Home Depot/All_Images_wTestTrain/testing_subs/PL/200816_ML2.png'), PosixPath('/content/drive/Shareddrives/FIRE-CC/FIRE298/2022/Polar Home Depot/All_Images_wTestTrain/testing_subs/PL/191215_KF2.png'), PosixPath('/content/drive/Shareddrives/FIRE-CC/FIRE298/2022/Polar Home Depot/All_Images_wTestTrain/testing_subs/PL/181004_MB9.png'), PosixPath('/content/drive/Shareddrives/FIRE-CC/FIRE298/2022/Polar Home Depot/All_Images_wTestTrain/testing_subs/PL/180619_JL1.png'), PosixPath('/content/drive/Shareddrives/FIRE-CC/FIRE298/2022/Polar Home Depot/All_Images_wTestTrain/testing_subs/PL/190410_ES6.png'), PosixPath('/content/drive/Shareddrives/FIRE-CC/FIRE298/2022/Polar Home Depot/All_Images_wTestTrain/testing_subs/PL/180803_DP1.png'), PosixPath('/content/drive/Shareddrives/FIRE-CC/FIRE298/2022/Polar Home Depot/All_Images_wTestTrain/testing_subs/PL/191201_RA1.png'), PosixPath('/content/drive/Shareddrives/FIRE-CC/FIRE298/2022/Polar Home Depot/All_Images_wTestTrain/testing_subs/PL/210102_CO2.png'), PosixPath('/content/drive/Shareddrives/FIRE-CC/FIRE298/2022/Polar Home Depot/All_Images_wTestTrain/testing_subs/PL/201111_JW2.png'), PosixPath('/content/drive/Shareddrives/FIRE-CC/FIRE298/2022/Polar Home Depot/All_Images_wTestTrain/testing_subs/PL/180618_JL1.png'), PosixPath('/content/drive/Shareddrives/FIRE-CC/FIRE298/2022/Polar Home Depot/All_Images_wTestTrain/testing_subs/PL/180717_IN2.png'), PosixPath('/content/drive/Shareddrives/FIRE-CC/FIRE298/2022/Polar Home Depot/All_Images_wTestTrain/testing_subs/PL/200111_AL1.png'), PosixPath('/content/drive/Shareddrives/FIRE-CC/FIRE298/2022/Polar Home Depot/All_Images_wTestTrain/testing_subs/PL/181004_MB11.png'), PosixPath('/content/drive/Shareddrives/FIRE-CC/FIRE298/2022/Polar Home Depot/All_Images_wTestTrain/testing_subs/PL/181017_RJ1.png'), PosixPath('/content/drive/Shareddrives/FIRE-CC/FIRE298/2022/Polar Home Depot/All_Images_wTestTrain/testing_subs/PL/201128_RC1.png'), PosixPath('/content/drive/Shareddrives/FIRE-CC/FIRE298/2022/Polar Home Depot/All_Images_wTestTrain/testing_subs/PL/180928_TL1.png'), PosixPath('/content/drive/Shareddrives/FIRE-CC/FIRE298/2022/Polar Home Depot/All_Images_wTestTrain/testing_subs/PL/200119_CW1.png'), PosixPath('/content/drive/Shareddrives/FIRE-CC/FIRE298/2022/Polar Home Depot/All_Images_wTestTrain/testing_subs/PL/180702_RP1.png'), PosixPath('/content/drive/Shareddrives/FIRE-CC/FIRE298/2022/Polar Home Depot/All_Images_wTestTrain/testing_subs/PL/201117_JW1.png'), PosixPath('/content/drive/Shareddrives/FIRE-CC/FIRE298/2022/Polar Home Depot/All_Images_wTestTrain/testing_subs/PL/190429_VL1.png'), PosixPath('/content/drive/Shareddrives/FIRE-CC/FIRE298/2022/Polar Home Depot/All_Images_wTestTrain/testing_subs/PL/200702_TG3.png'), PosixPath('/content/drive/Shareddrives/FIRE-CC/FIRE298/2022/Polar Home Depot/All_Images_wTestTrain/testing_subs/PL/190819_DP1.png'), PosixPath('/content/drive/Shareddrives/FIRE-CC/FIRE298/2022/Polar Home Depot/All_Images_wTestTrain/testing_subs/PL/181011_JS2.png'), PosixPath('/content/drive/Shareddrives/FIRE-CC/FIRE298/2022/Polar Home Depot/All_Images_wTestTrain/testing_subs/PL/180924_TL2.png'), PosixPath('/content/drive/Shareddrives/FIRE-CC/FIRE298/2022/Polar Home Depot/All_Images_wTestTrain/testing_subs/PL/180920_EU13.png'), PosixPath('/content/drive/Shareddrives/FIRE-CC/FIRE298/2022/Polar Home Depot/All_Images_wTestTrain/testing_subs/PL/191225_CE2.png'), PosixPath('/content/drive/Shareddrives/FIRE-CC/FIRE298/2022/Polar Home Depot/All_Images_wTestTrain/testing_subs/PL/201001_JQ1.png'), PosixPath('/content/drive/Shareddrives/FIRE-CC/FIRE298/2022/Polar Home Depot/All_Images_wTestTrain/testing_subs/PL/181009_JS2.png'), PosixPath('/content/drive/Shareddrives/FIRE-CC/FIRE298/2022/Polar Home Depot/All_Images_wTestTrain/testing_subs/PL/190919_SK2.png'), PosixPath('/content/drive/Shareddrives/FIRE-CC/FIRE298/2022/Polar Home Depot/All_Images_wTestTrain/testing_subs/PL/191205_RA1.png'), PosixPath('/content/drive/Shareddrives/FIRE-CC/FIRE298/2022/Polar Home Depot/All_Images_wTestTrain/testing_subs/PL/191209_AM6.png'), PosixPath('/content/drive/Shareddrives/FIRE-CC/FIRE298/2022/Polar Home Depot/All_Images_wTestTrain/testing_subs/PL/180620_JL1.png'), PosixPath('/content/drive/Shareddrives/FIRE-CC/FIRE298/2022/Polar Home Depot/All_Images_wTestTrain/testing_subs/PL/200304_JL4.png'), PosixPath('/content/drive/Shareddrives/FIRE-CC/FIRE298/2022/Polar Home Depot/All_Images_wTestTrain/testing_subs/PL/200727_DP1.png'), PosixPath('/content/drive/Shareddrives/FIRE-CC/FIRE298/2022/Polar Home Depot/All_Images_wTestTrain/testing_subs/PL/181019_RJ2.png'), PosixPath('/content/drive/Shareddrives/FIRE-CC/FIRE298/2022/Polar Home Depot/All_Images_wTestTrain/testing_subs/PL/180902_MB6.png'), PosixPath('/content/drive/Shareddrives/FIRE-CC/FIRE298/2022/Polar Home Depot/All_Images_wTestTrain/testing_subs/PL/200701_TG2.png'), PosixPath('/content/drive/Shareddrives/FIRE-CC/FIRE298/2022/Polar Home Depot/All_Images_wTestTrain/testing_subs/PL/200326_JC2.png'), PosixPath('/content/drive/Shareddrives/FIRE-CC/FIRE298/2022/Polar Home Depot/All_Images_wTestTrain/testing_subs/PL/210130_KI1.png'), PosixPath('/content/drive/Shareddrives/FIRE-CC/FIRE298/2022/Polar Home Depot/All_Images_wTestTrain/testing_subs/PL/201201_CO1.png'), PosixPath('/content/drive/Shareddrives/FIRE-CC/FIRE298/2022/Polar Home Depot/All_Images_wTestTrain/testing_subs/PL/180603_MG1.png'), PosixPath('/content/drive/Shareddrives/FIRE-CC/FIRE298/2022/Polar Home Depot/All_Images_wTestTrain/testing_subs/PL/200313_LW1.png'), PosixPath('/content/drive/Shareddrives/FIRE-CC/FIRE298/2022/Polar Home Depot/All_Images_wTestTrain/testing_subs/PL/190425_VL5.png'), PosixPath('/content/drive/Shareddrives/FIRE-CC/FIRE298/2022/Polar Home Depot/All_Images_wTestTrain/testing_subs/PL/181018_RJ2.png'), PosixPath('/content/drive/Shareddrives/FIRE-CC/FIRE298/2022/Polar Home Depot/All_Images_wTestTrain/testing_subs/PL/191019_AP1.png'), PosixPath('/content/drive/Shareddrives/FIRE-CC/FIRE298/2022/Polar Home Depot/All_Images_wTestTrain/testing_subs/PL/180802_DP1.png'), PosixPath('/content/drive/Shareddrives/FIRE-CC/FIRE298/2022/Polar Home Depot/All_Images_wTestTrain/testing_subs/PL/190712_RM2.png'), PosixPath('/content/drive/Shareddrives/FIRE-CC/FIRE298/2022/Polar Home Depot/All_Images_wTestTrain/testing_subs/PL/200216_KC2.png'), PosixPath('/content/drive/Shareddrives/FIRE-CC/FIRE298/2022/Polar Home Depot/All_Images_wTestTrain/testing_subs/PL/180805_DP1.png'), PosixPath('/content/drive/Shareddrives/FIRE-CC/FIRE298/2022/Polar Home Depot/All_Images_wTestTrain/testing_subs/PL/200727_DP2.png'), PosixPath('/content/drive/Shareddrives/FIRE-CC/FIRE298/2022/Polar Home Depot/All_Images_wTestTrain/testing_subs/PL/200215_KC2.png'), PosixPath('/content/drive/Shareddrives/FIRE-CC/FIRE298/2022/Polar Home Depot/All_Images_wTestTrain/testing_subs/PL/190425_VL4.png'), PosixPath('/content/drive/Shareddrives/FIRE-CC/FIRE298/2022/Polar Home Depot/All_Images_wTestTrain/testing_subs/PL/180915_EU5.png'), PosixPath('/content/drive/Shareddrives/FIRE-CC/FIRE298/2022/Polar Home Depot/All_Images_wTestTrain/testing_subs/PL/200819_ML7.png'), PosixPath('/content/drive/Shareddrives/FIRE-CC/FIRE298/2022/Polar Home Depot/All_Images_wTestTrain/testing_subs/NPL/201212_CA1.png'), PosixPath('/content/drive/Shareddrives/FIRE-CC/FIRE298/2022/Polar Home Depot/All_Images_wTestTrain/testing_subs/NPL/200817_ML6.png'), PosixPath('/content/drive/Shareddrives/FIRE-CC/FIRE298/2022/Polar Home Depot/All_Images_wTestTrain/testing_subs/NPL/191106_RB1.png'), PosixPath('/content/drive/Shareddrives/FIRE-CC/FIRE298/2022/Polar Home Depot/All_Images_wTestTrain/testing_subs/NPL/200326_JC4.png'), PosixPath('/content/drive/Shareddrives/FIRE-CC/FIRE298/2022/Polar Home Depot/All_Images_wTestTrain/testing_subs/NPL/200224_EF1.png'), PosixPath('/content/drive/Shareddrives/FIRE-CC/FIRE298/2022/Polar Home Depot/All_Images_wTestTrain/testing_subs/NPL/200215_KC6.png'), PosixPath('/content/drive/Shareddrives/FIRE-CC/FIRE298/2022/Polar Home Depot/All_Images_wTestTrain/testing_subs/NPL/200802_VP4.png'), PosixPath('/content/drive/Shareddrives/FIRE-CC/FIRE298/2022/Polar Home Depot/All_Images_wTestTrain/testing_subs/NPL/200308_JL9.png'), PosixPath('/content/drive/Shareddrives/FIRE-CC/FIRE298/2022/Polar Home Depot/All_Images_wTestTrain/testing_subs/NPL/200114_ZS2.png'), PosixPath('/content/drive/Shareddrives/FIRE-CC/FIRE298/2022/Polar Home Depot/All_Images_wTestTrain/testing_subs/NPL/201005_JQ3.png'), PosixPath('/content/drive/Shareddrives/FIRE-CC/FIRE298/2022/Polar Home Depot/All_Images_wTestTrain/testing_subs/NPL/190831_YT3.png'), PosixPath('/content/drive/Shareddrives/FIRE-CC/FIRE298/2022/Polar Home Depot/All_Images_wTestTrain/testing_subs/NPL/191127_VG7.png'), PosixPath('/content/drive/Shareddrives/FIRE-CC/FIRE298/2022/Polar Home Depot/All_Images_wTestTrain/testing_subs/NPL/201226_SP2.png'), PosixPath('/content/drive/Shareddrives/FIRE-CC/FIRE298/2022/Polar Home Depot/All_Images_wTestTrain/testing_subs/NPL/200702_TG9.png'), PosixPath('/content/drive/Shareddrives/FIRE-CC/FIRE298/2022/Polar Home Depot/All_Images_wTestTrain/testing_subs/NPL/191019_AM1.png'), PosixPath('/content/drive/Shareddrives/FIRE-CC/FIRE298/2022/Polar Home Depot/All_Images_wTestTrain/testing_subs/NPL/201213_CA1.png'), PosixPath('/content/drive/Shareddrives/FIRE-CC/FIRE298/2022/Polar Home Depot/All_Images_wTestTrain/testing_subs/NPL/191216_KF6.png'), PosixPath('/content/drive/Shareddrives/FIRE-CC/FIRE298/2022/Polar Home Depot/All_Images_wTestTrain/testing_subs/NPL/210123_CO2.png'), PosixPath('/content/drive/Shareddrives/FIRE-CC/FIRE298/2022/Polar Home Depot/All_Images_wTestTrain/testing_subs/NPL/200802_VP2.png'), PosixPath('/content/drive/Shareddrives/FIRE-CC/FIRE298/2022/Polar Home Depot/All_Images_wTestTrain/testing_subs/NPL/191213_AM2.png'), PosixPath('/content/drive/Shareddrives/FIRE-CC/FIRE298/2022/Polar Home Depot/All_Images_wTestTrain/testing_subs/NPL/200209_EP6.png'), PosixPath('/content/drive/Shareddrives/FIRE-CC/FIRE298/2022/Polar Home Depot/All_Images_wTestTrain/testing_subs/NPL/190803_SK3.png'), PosixPath('/content/drive/Shareddrives/FIRE-CC/FIRE298/2022/Polar Home Depot/All_Images_wTestTrain/testing_subs/NPL/200824_SP6.png'), PosixPath('/content/drive/Shareddrives/FIRE-CC/FIRE298/2022/Polar Home Depot/All_Images_wTestTrain/testing_subs/NPL/201223_SP2.png'), PosixPath('/content/drive/Shareddrives/FIRE-CC/FIRE298/2022/Polar Home Depot/All_Images_wTestTrain/testing_subs/NPL/190925_EK1.png'), PosixPath('/content/drive/Shareddrives/FIRE-CC/FIRE298/2022/Polar Home Depot/All_Images_wTestTrain/testing_subs/NPL/200114_ZS3.png'), PosixPath('/content/drive/Shareddrives/FIRE-CC/FIRE298/2022/Polar Home Depot/All_Images_wTestTrain/testing_subs/NPL/190808_JK6.png'), PosixPath('/content/drive/Shareddrives/FIRE-CC/FIRE298/2022/Polar Home Depot/All_Images_wTestTrain/testing_subs/NPL/200104_AL7.png'), PosixPath('/content/drive/Shareddrives/FIRE-CC/FIRE298/2022/Polar Home Depot/All_Images_wTestTrain/testing_subs/NPL/200215_KC5.png'), PosixPath('/content/drive/Shareddrives/FIRE-CC/FIRE298/2022/Polar Home Depot/All_Images_wTestTrain/testing_subs/NPL/190831_YT1.png'), PosixPath('/content/drive/Shareddrives/FIRE-CC/FIRE298/2022/Polar Home Depot/All_Images_wTestTrain/testing_subs/NPL/191109_RK8.png'), PosixPath('/content/drive/Shareddrives/FIRE-CC/FIRE298/2022/Polar Home Depot/All_Images_wTestTrain/testing_subs/NPL/191201_RA2.png'), PosixPath('/content/drive/Shareddrives/FIRE-CC/FIRE298/2022/Polar Home Depot/All_Images_wTestTrain/testing_subs/NPL/191017_AM1.png'), PosixPath('/content/drive/Shareddrives/FIRE-CC/FIRE298/2022/Polar Home Depot/All_Images_wTestTrain/testing_subs/NPL/200712_MS4.png'), PosixPath('/content/drive/Shareddrives/FIRE-CC/FIRE298/2022/Polar Home Depot/All_Images_wTestTrain/testing_subs/NPL/200225_EF3.png'), PosixPath('/content/drive/Shareddrives/FIRE-CC/FIRE298/2022/Polar Home Depot/All_Images_wTestTrain/testing_subs/NPL/200830_SP3.png'), PosixPath('/content/drive/Shareddrives/FIRE-CC/FIRE298/2022/Polar Home Depot/All_Images_wTestTrain/testing_subs/NPL/191129_VG6.png'), PosixPath('/content/drive/Shareddrives/FIRE-CC/FIRE298/2022/Polar Home Depot/All_Images_wTestTrain/testing_subs/NPL/200216_KC4.png'), PosixPath('/content/drive/Shareddrives/FIRE-CC/FIRE298/2022/Polar Home Depot/All_Images_wTestTrain/testing_subs/NPL/191108_RK6.png'), PosixPath('/content/drive/Shareddrives/FIRE-CC/FIRE298/2022/Polar Home Depot/All_Images_wTestTrain/testing_subs/NPL/200802_VP5.png'), PosixPath('/content/drive/Shareddrives/FIRE-CC/FIRE298/2022/Polar Home Depot/All_Images_wTestTrain/testing_subs/NPL/200119_CW3.png'), PosixPath('/content/drive/Shareddrives/FIRE-CC/FIRE298/2022/Polar Home Depot/All_Images_wTestTrain/testing_subs/NPL/191121_SJ8.png'), PosixPath('/content/drive/Shareddrives/FIRE-CC/FIRE298/2022/Polar Home Depot/All_Images_wTestTrain/testing_subs/NPL/200225_EF2.png'), PosixPath('/content/drive/Shareddrives/FIRE-CC/FIRE298/2022/Polar Home Depot/All_Images_wTestTrain/testing_subs/NPL/201121_RC1.png')]\n",
            "['201226_SP1.png', '181021_RJ1.png', '191101_RB2.png', '191214_AM3.png', '191127_VG4.png', '200702_TG4.png', '180727_RM2.png', '180808_DP2.png', '201211_CA1.png', '180830_AF1.png', '180809_DP1.png', '181025_JL3.png', '191110_RK3.png', '190715_RM2.png', '190804_SK4.png', '181016_RJ1.png', '191129_VG5.png', '191019_AP2.png', '200208_EP2.png', '190709_RM2.png', '180619_JL4.png', '181029_JL1.png', '191112_RK5.png', '190425_VL2.png', '180619_JL2.png', '180619_JL3.png', '181004_MB10.png', '180628_JH3.png', '180606_MG1.png', '200117_ZS8.png', '180621_JL1.png', '190415_NLS2.png', '200723_DP1.png', '190911_AK4.png', '180809_DP2.png', '181017_RJ2.png', '180917_AP1.png', '181003_MB2.png', '180828_AF2.png', '190408_RS1.png', '200824_SP3.png', '200816_ML2.png', '191215_KF2.png', '181004_MB9.png', '180619_JL1.png', '190410_ES6.png', '180803_DP1.png', '191201_RA1.png', '210102_CO2.png', '201111_JW2.png', '180618_JL1.png', '180717_IN2.png', '200111_AL1.png', '181004_MB11.png', '181017_RJ1.png', '201128_RC1.png', '180928_TL1.png', '200119_CW1.png', '180702_RP1.png', '201117_JW1.png', '190429_VL1.png', '200702_TG3.png', '190819_DP1.png', '181011_JS2.png', '180924_TL2.png', '180920_EU13.png', '191225_CE2.png', '201001_JQ1.png', '181009_JS2.png', '190919_SK2.png', '191205_RA1.png', '191209_AM6.png', '180620_JL1.png', '200304_JL4.png', '200727_DP1.png', '181019_RJ2.png', '180902_MB6.png', '200701_TG2.png', '200326_JC2.png', '210130_KI1.png', '201201_CO1.png', '180603_MG1.png', '200313_LW1.png', '190425_VL5.png', '181018_RJ2.png', '191019_AP1.png', '180802_DP1.png', '190712_RM2.png', '200216_KC2.png', '180805_DP1.png', '200727_DP2.png', '200215_KC2.png', '190425_VL4.png', '180915_EU5.png', '200819_ML7.png', '201212_CA1.png', '200817_ML6.png', '191106_RB1.png', '200326_JC4.png', '200224_EF1.png', '200215_KC6.png', '200802_VP4.png', '200308_JL9.png', '200114_ZS2.png', '201005_JQ3.png', '190831_YT3.png', '191127_VG7.png', '201226_SP2.png', '200702_TG9.png', '191019_AM1.png', '201213_CA1.png', '191216_KF6.png', '210123_CO2.png', '200802_VP2.png', '191213_AM2.png', '200209_EP6.png', '190803_SK3.png', '200824_SP6.png', '201223_SP2.png', '190925_EK1.png', '200114_ZS3.png', '190808_JK6.png', '200104_AL7.png', '200215_KC5.png', '190831_YT1.png', '191109_RK8.png', '191201_RA2.png', '191017_AM1.png', '200712_MS4.png', '200225_EF3.png', '200830_SP3.png', '191129_VG6.png', '200216_KC4.png', '191108_RK6.png', '200802_VP5.png', '200119_CW3.png', '191121_SJ8.png', '200225_EF2.png', '201121_RC1.png']\n"
          ]
        }
      ],
      "source": [
        "# Katie\n",
        "\n",
        "# Get file names of files tested by AlexNet\n",
        "\n",
        "paths = test_pred_df['image_path'].tolist()\n",
        "print(paths)\n",
        "\n",
        "stringFilePaths = []\n",
        "for i in paths:\n",
        "  stringPath = str(i)\n",
        "  filePath = os.path.basename(stringPath)\n",
        "  stringFilePaths.append(filePath)\n",
        "\n",
        "print(stringFilePaths)"
      ]
    },
    {
      "cell_type": "code",
      "execution_count": null,
      "metadata": {
        "colab": {
          "base_uri": "https://localhost:8080/",
          "height": 323
        },
        "id": "74Apk0yf1vGx",
        "outputId": "19c7ae4d-c64d-4b38-a8be-71f61b2cab84"
      },
      "outputs": [
        {
          "name": "stdout",
          "output_type": "stream",
          "text": [
            "[130, 610, 108, 159, 94, 379, 485, 499, 172, 527, 500, 619, 12, 689, 199, 600, 96, 103, 311, 680, 439, 627, 14, 666, 437, 438, 582, 453, 417, 287, 444, 651, 389, 241, 501, 603, 547, 581, 525, 641, 37, 46, 56, 584, 436, 645, 494, 117, 178, 68, 432, 468, 274, 583, 602, 154, 570, 300, 457, 66, 676, 378, 216, 594, 567, 558, 21, 76, 590, 255, 123, 162, 440, 353, 392, 608, 537, 377, 372, 402, 177, 411, 360, 669, 605, 102, 492, 684, 327, 496, 393, 321, 668, 545, 51, 175, 50, 115, 374, 345, 325, 145, 358, 281, 82, 231, 98, 136, 384, 87, 176, 60, 180, 143, 158, 318, 198, 42, 135, 268, 282, 209, 406, 324, 229, 17, 118, 86, 388, 348, 43, 97, 329, 15, 146, 302, 31, 347, 147]\n",
            "Amount of rows in df: 139\n"
          ]
        },
        {
          "data": {
            "text/html": [
              "\n",
              "  <div id=\"df-46416cd7-41d2-4320-9901-147187be6cb5\">\n",
              "    <div class=\"colab-df-container\">\n",
              "      <div>\n",
              "<style scoped>\n",
              "    .dataframe tbody tr th:only-of-type {\n",
              "        vertical-align: middle;\n",
              "    }\n",
              "\n",
              "    .dataframe tbody tr th {\n",
              "        vertical-align: top;\n",
              "    }\n",
              "\n",
              "    .dataframe thead th {\n",
              "        text-align: right;\n",
              "    }\n",
              "</style>\n",
              "<table border=\"1\" class=\"dataframe\">\n",
              "  <thead>\n",
              "    <tr style=\"text-align: right;\">\n",
              "      <th></th>\n",
              "      <th>longitude of box right side</th>\n",
              "      <th>latitude of box top</th>\n",
              "      <th>file name of PNG</th>\n",
              "      <th>How confident are you that this is actually a polar low [1 for low, 2 for high, 0 for definitely not a polar low]</th>\n",
              "    </tr>\n",
              "  </thead>\n",
              "  <tbody>\n",
              "    <tr>\n",
              "      <th>0</th>\n",
              "      <td>-80.4512</td>\n",
              "      <td>-59.7966</td>\n",
              "      <td>201226_SP1.png</td>\n",
              "      <td>1</td>\n",
              "    </tr>\n",
              "    <tr>\n",
              "      <th>1</th>\n",
              "      <td>8.19</td>\n",
              "      <td>76.7</td>\n",
              "      <td>181021_RJ1.png</td>\n",
              "      <td>2</td>\n",
              "    </tr>\n",
              "    <tr>\n",
              "      <th>2</th>\n",
              "      <td>-164.6522</td>\n",
              "      <td>-51.6963</td>\n",
              "      <td>191101_RB2.png</td>\n",
              "      <td>2</td>\n",
              "    </tr>\n",
              "    <tr>\n",
              "      <th>3</th>\n",
              "      <td>91.4027</td>\n",
              "      <td>-47.1526</td>\n",
              "      <td>191214_AM3.png</td>\n",
              "      <td>2</td>\n",
              "    </tr>\n",
              "    <tr>\n",
              "      <th>4</th>\n",
              "      <td>169.7079</td>\n",
              "      <td>-54.9248</td>\n",
              "      <td>191127_VG4.png</td>\n",
              "      <td>1</td>\n",
              "    </tr>\n",
              "  </tbody>\n",
              "</table>\n",
              "</div>\n",
              "      <button class=\"colab-df-convert\" onclick=\"convertToInteractive('df-46416cd7-41d2-4320-9901-147187be6cb5')\"\n",
              "              title=\"Convert this dataframe to an interactive table.\"\n",
              "              style=\"display:none;\">\n",
              "        \n",
              "  <svg xmlns=\"http://www.w3.org/2000/svg\" height=\"24px\"viewBox=\"0 0 24 24\"\n",
              "       width=\"24px\">\n",
              "    <path d=\"M0 0h24v24H0V0z\" fill=\"none\"/>\n",
              "    <path d=\"M18.56 5.44l.94 2.06.94-2.06 2.06-.94-2.06-.94-.94-2.06-.94 2.06-2.06.94zm-11 1L8.5 8.5l.94-2.06 2.06-.94-2.06-.94L8.5 2.5l-.94 2.06-2.06.94zm10 10l.94 2.06.94-2.06 2.06-.94-2.06-.94-.94-2.06-.94 2.06-2.06.94z\"/><path d=\"M17.41 7.96l-1.37-1.37c-.4-.4-.92-.59-1.43-.59-.52 0-1.04.2-1.43.59L10.3 9.45l-7.72 7.72c-.78.78-.78 2.05 0 2.83L4 21.41c.39.39.9.59 1.41.59.51 0 1.02-.2 1.41-.59l7.78-7.78 2.81-2.81c.8-.78.8-2.07 0-2.86zM5.41 20L4 18.59l7.72-7.72 1.47 1.35L5.41 20z\"/>\n",
              "  </svg>\n",
              "      </button>\n",
              "      \n",
              "  <style>\n",
              "    .colab-df-container {\n",
              "      display:flex;\n",
              "      flex-wrap:wrap;\n",
              "      gap: 12px;\n",
              "    }\n",
              "\n",
              "    .colab-df-convert {\n",
              "      background-color: #E8F0FE;\n",
              "      border: none;\n",
              "      border-radius: 50%;\n",
              "      cursor: pointer;\n",
              "      display: none;\n",
              "      fill: #1967D2;\n",
              "      height: 32px;\n",
              "      padding: 0 0 0 0;\n",
              "      width: 32px;\n",
              "    }\n",
              "\n",
              "    .colab-df-convert:hover {\n",
              "      background-color: #E2EBFA;\n",
              "      box-shadow: 0px 1px 2px rgba(60, 64, 67, 0.3), 0px 1px 3px 1px rgba(60, 64, 67, 0.15);\n",
              "      fill: #174EA6;\n",
              "    }\n",
              "\n",
              "    [theme=dark] .colab-df-convert {\n",
              "      background-color: #3B4455;\n",
              "      fill: #D2E3FC;\n",
              "    }\n",
              "\n",
              "    [theme=dark] .colab-df-convert:hover {\n",
              "      background-color: #434B5C;\n",
              "      box-shadow: 0px 1px 3px 1px rgba(0, 0, 0, 0.15);\n",
              "      filter: drop-shadow(0px 1px 2px rgba(0, 0, 0, 0.3));\n",
              "      fill: #FFFFFF;\n",
              "    }\n",
              "  </style>\n",
              "\n",
              "      <script>\n",
              "        const buttonEl =\n",
              "          document.querySelector('#df-46416cd7-41d2-4320-9901-147187be6cb5 button.colab-df-convert');\n",
              "        buttonEl.style.display =\n",
              "          google.colab.kernel.accessAllowed ? 'block' : 'none';\n",
              "\n",
              "        async function convertToInteractive(key) {\n",
              "          const element = document.querySelector('#df-46416cd7-41d2-4320-9901-147187be6cb5');\n",
              "          const dataTable =\n",
              "            await google.colab.kernel.invokeFunction('convertToInteractive',\n",
              "                                                     [key], {});\n",
              "          if (!dataTable) return;\n",
              "\n",
              "          const docLinkHtml = 'Like what you see? Visit the ' +\n",
              "            '<a target=\"_blank\" href=https://colab.research.google.com/notebooks/data_table.ipynb>data table notebook</a>'\n",
              "            + ' to learn more about interactive tables.';\n",
              "          element.innerHTML = '';\n",
              "          dataTable['output_type'] = 'display_data';\n",
              "          await google.colab.output.renderOutput(dataTable, element);\n",
              "          const docLink = document.createElement('div');\n",
              "          docLink.innerHTML = docLinkHtml;\n",
              "          element.appendChild(docLink);\n",
              "        }\n",
              "      </script>\n",
              "    </div>\n",
              "  </div>\n",
              "  "
            ],
            "text/plain": [
              "  longitude of box right side latitude of box top file name of PNG  \\\n",
              "0                    -80.4512            -59.7966   201226_SP1.png   \n",
              "1                        8.19                76.7   181021_RJ1.png   \n",
              "2                   -164.6522            -51.6963   191101_RB2.png   \n",
              "3                     91.4027            -47.1526   191214_AM3.png   \n",
              "4                    169.7079            -54.9248   191127_VG4.png   \n",
              "\n",
              "  How confident are you that this is actually a polar low [1 for low, 2 for high, 0 for definitely not a polar low]  \n",
              "0                                                  1                                                                 \n",
              "1                                                  2                                                                 \n",
              "2                                                  2                                                                 \n",
              "3                                                  2                                                                 \n",
              "4                                                  1                                                                 "
            ]
          },
          "execution_count": 23,
          "metadata": {},
          "output_type": "execute_result"
        }
      ],
      "source": [
        "# Katie\n",
        "\n",
        "# Get dataframe with data associated with each file tested by AlexNet\n",
        "\n",
        "rowIndicesNeeded = []\n",
        "for i in stringFilePaths:\n",
        "  rowIndicesNeeded.append(df_all[df_all['file name of PNG'] == i].index[0])\n",
        "\n",
        "print(\"Amount of rows (testing images) in df: \" + str(len(rowIndicesNeeded)))\n",
        "\n",
        "df_testing = pd.DataFrame()\n",
        "\n",
        "for i in rowIndicesNeeded:\n",
        "  df_testing = df_testing.append(df_all.iloc[i])\n",
        "\n",
        "df_testing.reset_index(inplace=True, drop=True)\n",
        "df_testing = df_testing[[\"longitude of box right side\", \"latitude of box top\", \"file name of PNG\", \"How confident are you that this is actually a polar low [1 for low, 2 for high, 0 for definitely not a polar low]\"]]\n",
        "\n",
        "df_testing.head()"
      ]
    },
    {
      "cell_type": "markdown",
      "metadata": {
        "id": "tSZ2mNVeAiuA"
      },
      "source": [
        "##Decision Tree Implementation"
      ]
    },
    {
      "cell_type": "markdown",
      "metadata": {
        "id": "yRZYGYaggI7q"
      },
      "source": [
        "The decision tree is created to further classify the images based on the latitude and longitude of the image. For a polar low to be considered a polar low, it has to be either above 40 degrees latitude or below -40 degrees latitude. We believe that through creating a decision tree, we will be able to fine tune our model based on the definition of a polar low. Our goal is to improve the accuracy when comparing to just using Alexnet predictions alone.\n",
        "\n",
        "After running AlexNet and classifying the images, we ran the AlexNet image predictions, stored in an array named “master”, through our decision tree. For the depth of our decision tree, we made it equal to 2 to avoid overfitting data."
      ]
    },
    {
      "cell_type": "code",
      "execution_count": null,
      "metadata": {
        "colab": {
          "base_uri": "https://localhost:8080/"
        },
        "id": "TPyFMS40OHWn",
        "outputId": "75140b92-b96d-4497-8535-a26bce5424d9"
      },
      "outputs": [
        {
          "name": "stdout",
          "output_type": "stream",
          "text": [
            "[[tensor(0), -80.4512, -59.7966], [tensor(0), 8.19, 76.7], [tensor(0), -164.6522, -51.6963], [tensor(0), 91.4027, -47.1526], [tensor(1), 169.7079, -54.9248], [tensor(0), 19.6885, -47.0691], [tensor(0), 143.9027, -45.4871], [tensor(0), -105.3919, -57.141], [tensor(0), 106.3232, -45.1154], [tensor(0), -114.5975, -46.2461], [tensor(0), -69.9701, -56.7218], [tensor(0), -7.0313, -53.5605], [tensor(0), -142.7567, 49.5112], [tensor(0), 81.472, -47.2363], [tensor(1), -171.813, -36.7672], [tensor(0), -16.9, -43.6], [tensor(1), -30.9027, -41.4015], [tensor(0), -145.2842, 55.5791], [tensor(0), -85.8096, -46.9497], [tensor(0), 141.4466, -45.7865], [tensor(0), 36.2109, -47.083], [tensor(0), 96.6533, -54.3867], [tensor(0), -156.915, 53.5063], [tensor(0), 87.3281, -42.3984], [tensor(0), 143.2969, -49.3418], [tensor(0), -154.1777, -39.4893], [tensor(0), -33.4688, -48.0586], [tensor(0), -29.7185, -44.1125], [tensor(0), 127.222, -43.9112], [tensor(0), -135.6123, 49.3222], [tensor(0), -138.4453, 61.5322], [tensor(1), 120.6094, -42.3984], [tensor(1), 93.5961, -47.6724], [tensor(1), -136.3737, 55.1457], [tensor(0), -107.8272, -55.6263], [tensor(0), -52.8, 71.42], [tensor(1), -8.374, 53.2463], [tensor(1), -169.1191, 59.9941], [tensor(0), 24.9136, -52.3833], [tensor(0), 174.8848, 50.1504], [tensor(1), -143.1037, -41.8427], [tensor(1), 40.6956, -49.5261], [tensor(0), -154.6561, 59.6965], [tensor(0), -170.2969, 66.4102], [tensor(1), -68.7305, 79.9541], [tensor(1), -142.5578, 59.22], [tensor(1), 117.0944, -46.3122], [tensor(1), -125.1291, 45.146], [tensor(1), 63.3196, -43.2398], [tensor(1), 98.1382, -44.8575], [tensor(1), -33.3633, 68.1768], [tensor(1), 124.4208, -40.7728], [tensor(1), 124.0872, -52.1731], [tensor(1), -49.1133, -42.0469], [tensor(1), -41.25, 60.39], [tensor(1), -14.4611, 50.7875], [tensor(1), 31.2143, -38.8202], [tensor(1), -112.6411, -52.4669], [tensor(1), -174.2254, -40.4613], [tensor(1), 167.1273, -44.3988], [tensor(1), -28.9688, 65.3906], [tensor(1), -147.2001, -40.5076], [tensor(1), 65.3881, -43.1007], [tensor(1), 24.0344, -38.1831], [tensor(1), -82.3411, -42.6376], [tensor(1), 155.542, 58.0486], [tensor(1), 163.9228, 52.7026], [tensor(1), 169.8221, 51.2514], [tensor(1), -178.9193, 59.8787], [tensor(1), -119.0937689, -38.21606677], [tensor(1), 159.6247, 52.7109], [tensor(1), -38.3251, -49.1384], [tensor(1), -18.5625, 47.5752], [tensor(1), -31.1629, 66.8467], [tensor(1), -2.0036, 64.1314], [tensor(1), -103.83, -47.39], [tensor(1), -173.6746, 46.4064], [tensor(1), -19.7178, -48.9494], [tensor(1), 155.6794, 48.9024], [tensor(1), -111.3986, -37.8671], [tensor(1), -171.1244, 51.2277], [tensor(1), -7.1984, 50.1343], [tensor(1), -137.9021, -56.548], [tensor(1), -34.4531, 65.1797], [tensor(1), -153.51, -49.4], [tensor(0), -146.3537, -43.4874], [tensor(1), 56.3904, -47.6065], [tensor(1), -173.1431, -38.6599], [tensor(1), 68.9226, -55.4757], [tensor(1), 76.6005, -48.1422], [tensor(1), -101.5188, -37.9105], [tensor(1), -14.2969, 64.2374], [tensor(1), -143.0156, 60.3984], [tensor(1), -22.3242, 66.4277], [tensor(1), 71.8815, 20.1913], [tensor(1), -5.0867, -40.0347], [tensor(1), 44.473, -39.8594], [tensor(1), 9.7972, -30.5634], [tensor(1), -26.5082, 4.6631], [tensor(1), 67.5345, -1.4418], [tensor(1), 110.4642, -40.8022], [tensor(1), 123.2223, -44.6892], [tensor(1), 61.6492, -39.6198], [tensor(1), 58.8488, -5.7344], [tensor(1), -12.3169, 40.4632], [tensor(1), -49.8178, 28.0242], [tensor(1), -132.4263, 50.1253], [tensor(1), 11.3768, -42.1949], [tensor(1), 88.5135, -34.4904], [tensor(1), 39.9261, 50.1609], [tensor(1), -14.706, 58.3096], [tensor(1), 72.2643, -4.6749], [tensor(1), 80.0725, -3.0265], [tensor(1), 72.7756, -47.5892], [tensor(1), -78.9855, -51.113], [tensor(1), -174.2343, 26.9941], [tensor(1), -162.4569, 52.8292], [tensor(1), -38.9361, -40.6278], [tensor(1), 23.2717, -47.9829], [tensor(1), 136.0736, -41.7381], [tensor(1), -110.4102, 8.1307], [tensor(1), -48.6423, 3.7033], [tensor(1), 147.49, -45.006], [tensor(1), -45.3882, 16.4708], [tensor(1), -34.8862, 38.2028], [tensor(1), -0.5268, -6.7938], [tensor(1), 134.3722, 17.1397], [tensor(1), 39.0481, 65.8554], [tensor(0), 68.7594, 9.2151], [tensor(1), 172.8949, -33.1806], [tensor(1), 163.688, -50.7591], [tensor(1), -141.4587, 49.127], [tensor(1), 159.6633, 24.4119], [tensor(1), 158.5771, 11.4037], [tensor(1), 138.2137, -39.4473], [tensor(1), 78.6021, -6.6585], [tensor(1), 60.9517, -31.8916], [tensor(1), -158.5973, 50.8506], [tensor(1), 5.9925, -47.1507]]\n"
          ]
        }
      ],
      "source": [
        "# Riya\n",
        "\n",
        "prediction_array = [[]]\n",
        "i = 0\n",
        "\n",
        "#temp_df is what we use later in order to train our decision tree\n",
        "#used df_testing which contains data associated with images tested in AlexNet\n",
        "#also used the true classification labels in temp_df\n",
        "temp_df = df_testing[[\"latitude of box top\", \"longitude of box right side\", \"How confident are you that this is actually a polar low [1 for low, 2 for high, 0 for definitely not a polar low]\"]]\n",
        "list_long = list(temp_df[\"longitude of box right side\"])\n",
        "list_lat = list(temp_df[\"latitude of box top\"])\n",
        "#turns all the 2's into 1's so it is either 0 or 1, this is because polar lows are classified as both 2 and 1.\n",
        "#later, we can just use 0 and 1. using 0, 1, and 2, makes things redundant and matches up with the models classification labels.\n",
        "list_class = np.array(list(temp_df['How confident are you that this is actually a polar low [1 for low, 2 for high, 0 for definitely not a polar low]']))\n",
        "list_class[list_class == '2'] = '1'\n",
        "\n",
        "#master is an array that will be passed into the decision tree containing the AlexNet predictions,\n",
        "#latitude data, and longitude data.\n",
        "master = []\n",
        "#for all the images in all the lists: long, lat, and prediction, makes it into 1 still\n",
        "for i in range(len(test_preds)):\n",
        "  master.append([test_preds[i], float(list_long[i]), float(list_lat[i])])\n",
        "print(master)"
      ]
    },
    {
      "cell_type": "code",
      "execution_count": null,
      "metadata": {
        "colab": {
          "base_uri": "https://localhost:8080/",
          "height": 303
        },
        "id": "kBVlh6jhnp8u",
        "outputId": "5e5d8add-b901-4165-db89-eb470f43c0d5"
      },
      "outputs": [
        {
          "data": {
            "image/png": "[encoded data removed]",
            "text/plain": [
              "<Figure size 360x360 with 1 Axes>"
            ]
          },
          "metadata": {
            "needs_background": "light"
          },
          "output_type": "display_data"
        }
      ],
      "source": [
        "from sklearn.tree import DecisionTreeClassifier\n",
        "from sklearn import tree\n",
        "import matplotlib.pyplot as plt  # Matplotlib will allow us to make visuals of our data and display images\n",
        "\n",
        "#creates a tree of depth 2, if we have too many depths, it overfits (meaning it\n",
        "#trains so well that it only does well on the actual training set)\n",
        "#generalization: applying trained model to test data\n",
        "# the tree is a decision maker, it goes down a path to determine the decision.\n",
        "clf = DecisionTreeClassifier(max_depth=2)\n",
        "clf.fit(master, test_truth) # fitting tree with AlexNet predictions and truth labels\n",
        "fig = plt.figure(figsize=(15,15))\n",
        "_ = tree.plot_tree(clf, feature_names=['AlexNet prediction', 'longitude', 'latitude'], class_names=['PL', 'NPL'], filled=True)"
      ]
    },
    {
      "cell_type": "code",
      "execution_count": null,
      "metadata": {
        "id": "1hqUjx7_UUoM"
      },
      "outputs": [],
      "source": [
        "# Riya\n",
        "\n",
        "# test set process\n",
        "# for a test set, we used the 2022 data as the training data\n",
        "# we made a confusion matrix\n",
        "temp_df = df_testing[[\"latitude of box top\", \"longitude of box right side\", \"How confident are you that this is actually a polar low [1 for low, 2 for high, 0 for definitely not a polar low]\"]]\n",
        "list_long = list(temp_df[\"longitude of box right side\"])\n",
        "list_lat = list(temp_df[\"latitude of box top\"])\n",
        "list_class = np.array(list(temp_df['How confident are you that this is actually a polar low [1 for low, 2 for high, 0 for definitely not a polar low]']))\n",
        "list_class[list_class == '2'] = '1'\n",
        "test_Y = list(list_class.astype(int))\n",
        "\n",
        "test_X = []\n",
        "i = 0\n",
        "for i in range(len(list_long)):\n",
        "  tmp_lst = [int(list_class[i]), float(list_long[i]), float(list_lat[i])]\n",
        "  test_X.append(tmp_lst)\n",
        "\n",
        "pr = clf.predict(test_X)\n",
        "pr = pr.tolist()"
      ]
    },
    {
      "cell_type": "markdown",
      "metadata": {
        "id": "aSaXHutTf7BG"
      },
      "source": [
        "A confusion matrix is created to determine the accuracy of the decision tree given inputed AlexNet model prediction data. The matrix displays the number of correctly and incorrectly classified polar lows images and the number of correctly and incorrectly classified non-polar lows images. From the confusion matrix, it can be concluded that the accuracy of the model is 100%, given we only tested with 139 images."
      ]
    },
    {
      "cell_type": "code",
      "execution_count": null,
      "metadata": {
        "colab": {
          "base_uri": "https://localhost:8080/",
          "height": 333
        },
        "id": "9ZLLbkEnUGnV",
        "outputId": "d708290c-685f-43a2-fe21-7abef2f31495"
      },
      "outputs": [
        {
          "name": "stdout",
          "output_type": "stream",
          "text": [
            "The accuracy score of the model is 1.0\n",
            "The precision score for predicting polar lows is 1.0\n",
            "The precision score for predicting non-polar lows is 1.0\n"
          ]
        },
        {
          "data": {
            "image/png": "[encoded data removed]",
            "text/plain": [
              "<Figure size 432x288 with 2 Axes>"
            ]
          },
          "metadata": {
            "needs_background": "light"
          },
          "output_type": "display_data"
        }
      ],
      "source": [
        "# Katie\n",
        "\n",
        "from sklearn.metrics import confusion_matrix, ConfusionMatrixDisplay, accuracy_score, precision_score\n",
        "#AlexNet results.\n",
        "cm = confusion_matrix(test_Y, pr, labels=[0, 1])\n",
        "\n",
        "#Accuracy Score\n",
        "y_pred = pr\n",
        "\n",
        "accuracy = accuracy_score(test_Y,pr)\n",
        "\n",
        "print(\"The accuracy score of the model is \" + str(accuracy))\n",
        "\n",
        "#Precision Score\n",
        "precision = precision_score(test_Y, pr, average=None)\n",
        "\n",
        "print(\"The precision score for predicting polar lows is \" + str(precision[0]))\n",
        "print(\"The precision score for predicting non-polar lows is \" + str(precision[1]))\n",
        "\n",
        "#Displaying the Confusion Matrix\n",
        "## Used defined labels from labels.txt in the converted_keras folder in the drive\n",
        "disp = ConfusionMatrixDisplay(confusion_matrix=cm, display_labels=['Non-Polar Lows', 'Polar Lows'])\n",
        "disp.plot()\n",
        "plt.show()"
      ]
    },
    {
      "cell_type": "markdown",
      "metadata": {
        "id": "vT4EZfqmCd2s"
      },
      "source": [
        "#Final Results and Conclusions"
      ]
    },
    {
      "cell_type": "markdown",
      "metadata": {
        "id": "QqTr-hnliRPX"
      },
      "source": [
        "We implemented the AlexNet CNN model and re-trained it with 5 epochs at a learning rate of 0.001. The raw predictions from this model were fed into the decision tree that was created in Spring 2022.\n",
        "  \n",
        "The accuracy of Alexnet alone improves the classification of polar lows from the teachable machine from 73% to around 81%. When implementing the decision tree, the model further improved to 100%.\n",
        "\n",
        "We have faith in our model's accuracy reports, except we are a bit skeptical that the final result was 100%. This overestimated accuracy may be due to a low amount of testing data - we only used 139 images to feed into the decision tree.\n",
        "\n",
        "For future research, the classification of polar lows can be improved by editing the hyperparameters such as the epochs, the loss function, or the layers in the decision tree. Additionally, data dropping can be implemented. Data can be randomly dropped during training to avoid overfitting. We are also interested in implementing more features to the decision tree for the image to be evaluated on before making a final classification prediction.\n",
        "\n",
        "NOTE: There may be some discrepancies in the accuracy of our model. After looking at the training and testing split data, we found a few images that were mislabeled in the data frame, duplicates, or in the wrong folder. This messed up the 80-20 training testing split for both the non-polar low and polar low images.\n"
      ]
    },
    {
      "cell_type": "markdown",
      "metadata": {
        "id": "MvgelMkLDhrY"
      },
      "source": [
        "#**Bibliography**\n",
        "\n",
        "Bourke, D. (2022). PyTorch Transfer Learning.\thttps://github.com/mrdbourke/pytorch-deep-learning/blob/main/06_pytorch_transfer_learning.ipynb\n",
        "\n",
        "(2022). TORCH.NN. PyTorch Contributors. https://pytorch.org/docs/stable/nn.html#loss-functions.\n",
        "\n",
        "Terpstra, A., & Watanabe, S. Polar Lows. Oxford Research Encyclopedia of Climate Science. Retrieved 6 May. 2022, from https://oxfordre.com/climatescience/view/10.1093/acrefore/9780190228620.001.0001/acrefore-9780190228620-e-775.\n"
      ]
    }
  ],
  "metadata": {
    "accelerator": "GPU",
    "colab": {
      "collapsed_sections": [
        "Qm9I-oF8B6U-",
        "Wwh6ky2FB_Hx"
      ],
      "include_colab_link": true,
      "provenance": []
    },
    "gpuClass": "standard",
    "kernelspec": {
      "display_name": "Python 3",
      "name": "python3"
    },
    "language_info": {
      "name": "python"
    },
    "widgets": {
      "application/vnd.jupyter.widget-state+json": {
        "0014811dbbde4cc68ec96060031cfb42": {
          "model_module": "@jupyter-widgets/controls",
          "model_module_version": "1.5.0",
          "model_name": "HTMLModel",
          "state": {
            "_dom_classes": [],
            "_model_module": "@jupyter-widgets/controls",
            "_model_module_version": "1.5.0",
            "_model_name": "HTMLModel",
            "_view_count": null,
            "_view_module": "@jupyter-widgets/controls",
            "_view_module_version": "1.5.0",
            "_view_name": "HTMLView",
            "description": "",
            "description_tooltip": null,
            "layout": "IPY_MODEL_595d9787d10c4089a10d50e37375e442",
            "placeholder": "​",
            "style": "IPY_MODEL_daff86c40db34ba0808a7afd0a2bc760",
            "value": "100%"
          }
        },
        "0ff3691207064fee8eae19cd376ea591": {
          "model_module": "@jupyter-widgets/controls",
          "model_module_version": "1.5.0",
          "model_name": "DescriptionStyleModel",
          "state": {
            "_model_module": "@jupyter-widgets/controls",
            "_model_module_version": "1.5.0",
            "_model_name": "DescriptionStyleModel",
            "_view_count": null,
            "_view_module": "@jupyter-widgets/base",
            "_view_module_version": "1.2.0",
            "_view_name": "StyleView",
            "description_width": ""
          }
        },
        "22a5b0fa738048cdb023fbe16615e3d1": {
          "model_module": "@jupyter-widgets/base",
          "model_module_version": "1.2.0",
          "model_name": "LayoutModel",
          "state": {
            "_model_module": "@jupyter-widgets/base",
            "_model_module_version": "1.2.0",
            "_model_name": "LayoutModel",
            "_view_count": null,
            "_view_module": "@jupyter-widgets/base",
            "_view_module_version": "1.2.0",
            "_view_name": "LayoutView",
            "align_content": null,
            "align_items": null,
            "align_self": null,
            "border": null,
            "bottom": null,
            "display": null,
            "flex": null,
            "flex_flow": null,
            "grid_area": null,
            "grid_auto_columns": null,
            "grid_auto_flow": null,
            "grid_auto_rows": null,
            "grid_column": null,
            "grid_gap": null,
            "grid_row": null,
            "grid_template_areas": null,
            "grid_template_columns": null,
            "grid_template_rows": null,
            "height": null,
            "justify_content": null,
            "justify_items": null,
            "left": null,
            "margin": null,
            "max_height": null,
            "max_width": null,
            "min_height": null,
            "min_width": null,
            "object_fit": null,
            "object_position": null,
            "order": null,
            "overflow": null,
            "overflow_x": null,
            "overflow_y": null,
            "padding": null,
            "right": null,
            "top": null,
            "visibility": null,
            "width": null
          }
        },
        "2af3d6f0ef9841cb91ef4440e5fd5013": {
          "model_module": "@jupyter-widgets/base",
          "model_module_version": "1.2.0",
          "model_name": "LayoutModel",
          "state": {
            "_model_module": "@jupyter-widgets/base",
            "_model_module_version": "1.2.0",
            "_model_name": "LayoutModel",
            "_view_count": null,
            "_view_module": "@jupyter-widgets/base",
            "_view_module_version": "1.2.0",
            "_view_name": "LayoutView",
            "align_content": null,
            "align_items": null,
            "align_self": null,
            "border": null,
            "bottom": null,
            "display": null,
            "flex": null,
            "flex_flow": null,
            "grid_area": null,
            "grid_auto_columns": null,
            "grid_auto_flow": null,
            "grid_auto_rows": null,
            "grid_column": null,
            "grid_gap": null,
            "grid_row": null,
            "grid_template_areas": null,
            "grid_template_columns": null,
            "grid_template_rows": null,
            "height": null,
            "justify_content": null,
            "justify_items": null,
            "left": null,
            "margin": null,
            "max_height": null,
            "max_width": null,
            "min_height": null,
            "min_width": null,
            "object_fit": null,
            "object_position": null,
            "order": null,
            "overflow": null,
            "overflow_x": null,
            "overflow_y": null,
            "padding": null,
            "right": null,
            "top": null,
            "visibility": null,
            "width": null
          }
        },
        "4681b4675f5e46dd81e25807ad6f8387": {
          "model_module": "@jupyter-widgets/controls",
          "model_module_version": "1.5.0",
          "model_name": "ProgressStyleModel",
          "state": {
            "_model_module": "@jupyter-widgets/controls",
            "_model_module_version": "1.5.0",
            "_model_name": "ProgressStyleModel",
            "_view_count": null,
            "_view_module": "@jupyter-widgets/base",
            "_view_module_version": "1.2.0",
            "_view_name": "StyleView",
            "bar_color": null,
            "description_width": ""
          }
        },
        "531d11272e5141529b86b35c96937bff": {
          "model_module": "@jupyter-widgets/base",
          "model_module_version": "1.2.0",
          "model_name": "LayoutModel",
          "state": {
            "_model_module": "@jupyter-widgets/base",
            "_model_module_version": "1.2.0",
            "_model_name": "LayoutModel",
            "_view_count": null,
            "_view_module": "@jupyter-widgets/base",
            "_view_module_version": "1.2.0",
            "_view_name": "LayoutView",
            "align_content": null,
            "align_items": null,
            "align_self": null,
            "border": null,
            "bottom": null,
            "display": null,
            "flex": null,
            "flex_flow": null,
            "grid_area": null,
            "grid_auto_columns": null,
            "grid_auto_flow": null,
            "grid_auto_rows": null,
            "grid_column": null,
            "grid_gap": null,
            "grid_row": null,
            "grid_template_areas": null,
            "grid_template_columns": null,
            "grid_template_rows": null,
            "height": null,
            "justify_content": null,
            "justify_items": null,
            "left": null,
            "margin": null,
            "max_height": null,
            "max_width": null,
            "min_height": null,
            "min_width": null,
            "object_fit": null,
            "object_position": null,
            "order": null,
            "overflow": null,
            "overflow_x": null,
            "overflow_y": null,
            "padding": null,
            "right": null,
            "top": null,
            "visibility": null,
            "width": null
          }
        },
        "595d9787d10c4089a10d50e37375e442": {
          "model_module": "@jupyter-widgets/base",
          "model_module_version": "1.2.0",
          "model_name": "LayoutModel",
          "state": {
            "_model_module": "@jupyter-widgets/base",
            "_model_module_version": "1.2.0",
            "_model_name": "LayoutModel",
            "_view_count": null,
            "_view_module": "@jupyter-widgets/base",
            "_view_module_version": "1.2.0",
            "_view_name": "LayoutView",
            "align_content": null,
            "align_items": null,
            "align_self": null,
            "border": null,
            "bottom": null,
            "display": null,
            "flex": null,
            "flex_flow": null,
            "grid_area": null,
            "grid_auto_columns": null,
            "grid_auto_flow": null,
            "grid_auto_rows": null,
            "grid_column": null,
            "grid_gap": null,
            "grid_row": null,
            "grid_template_areas": null,
            "grid_template_columns": null,
            "grid_template_rows": null,
            "height": null,
            "justify_content": null,
            "justify_items": null,
            "left": null,
            "margin": null,
            "max_height": null,
            "max_width": null,
            "min_height": null,
            "min_width": null,
            "object_fit": null,
            "object_position": null,
            "order": null,
            "overflow": null,
            "overflow_x": null,
            "overflow_y": null,
            "padding": null,
            "right": null,
            "top": null,
            "visibility": null,
            "width": null
          }
        },
        "5ee4832720ce46d09f129cc1b6e1592f": {
          "model_module": "@jupyter-widgets/base",
          "model_module_version": "1.2.0",
          "model_name": "LayoutModel",
          "state": {
            "_model_module": "@jupyter-widgets/base",
            "_model_module_version": "1.2.0",
            "_model_name": "LayoutModel",
            "_view_count": null,
            "_view_module": "@jupyter-widgets/base",
            "_view_module_version": "1.2.0",
            "_view_name": "LayoutView",
            "align_content": null,
            "align_items": null,
            "align_self": null,
            "border": null,
            "bottom": null,
            "display": null,
            "flex": null,
            "flex_flow": null,
            "grid_area": null,
            "grid_auto_columns": null,
            "grid_auto_flow": null,
            "grid_auto_rows": null,
            "grid_column": null,
            "grid_gap": null,
            "grid_row": null,
            "grid_template_areas": null,
            "grid_template_columns": null,
            "grid_template_rows": null,
            "height": null,
            "justify_content": null,
            "justify_items": null,
            "left": null,
            "margin": null,
            "max_height": null,
            "max_width": null,
            "min_height": null,
            "min_width": null,
            "object_fit": null,
            "object_position": null,
            "order": null,
            "overflow": null,
            "overflow_x": null,
            "overflow_y": null,
            "padding": null,
            "right": null,
            "top": null,
            "visibility": null,
            "width": null
          }
        },
        "6021332ffad844b187b37b6b93737418": {
          "model_module": "@jupyter-widgets/controls",
          "model_module_version": "1.5.0",
          "model_name": "HBoxModel",
          "state": {
            "_dom_classes": [],
            "_model_module": "@jupyter-widgets/controls",
            "_model_module_version": "1.5.0",
            "_model_name": "HBoxModel",
            "_view_count": null,
            "_view_module": "@jupyter-widgets/controls",
            "_view_module_version": "1.5.0",
            "_view_name": "HBoxView",
            "box_style": "",
            "children": [
              "IPY_MODEL_d93dca3a04094e43b8fae0513cf843d2",
              "IPY_MODEL_ff0b59ec2e9d4a2e97ce485f50a1ee5d",
              "IPY_MODEL_ce980a8fc8214d078f3c5bc8ab29bd70"
            ],
            "layout": "IPY_MODEL_ed6ceec77e02476fa52e6f6f1b1e62e0"
          }
        },
        "64bdf85037ee45fda22944c7d5f9215b": {
          "model_module": "@jupyter-widgets/controls",
          "model_module_version": "1.5.0",
          "model_name": "DescriptionStyleModel",
          "state": {
            "_model_module": "@jupyter-widgets/controls",
            "_model_module_version": "1.5.0",
            "_model_name": "DescriptionStyleModel",
            "_view_count": null,
            "_view_module": "@jupyter-widgets/base",
            "_view_module_version": "1.2.0",
            "_view_name": "StyleView",
            "description_width": ""
          }
        },
        "6a71a527093e4d41bd251e9973c337ab": {
          "model_module": "@jupyter-widgets/base",
          "model_module_version": "1.2.0",
          "model_name": "LayoutModel",
          "state": {
            "_model_module": "@jupyter-widgets/base",
            "_model_module_version": "1.2.0",
            "_model_name": "LayoutModel",
            "_view_count": null,
            "_view_module": "@jupyter-widgets/base",
            "_view_module_version": "1.2.0",
            "_view_name": "LayoutView",
            "align_content": null,
            "align_items": null,
            "align_self": null,
            "border": null,
            "bottom": null,
            "display": null,
            "flex": null,
            "flex_flow": null,
            "grid_area": null,
            "grid_auto_columns": null,
            "grid_auto_flow": null,
            "grid_auto_rows": null,
            "grid_column": null,
            "grid_gap": null,
            "grid_row": null,
            "grid_template_areas": null,
            "grid_template_columns": null,
            "grid_template_rows": null,
            "height": null,
            "justify_content": null,
            "justify_items": null,
            "left": null,
            "margin": null,
            "max_height": null,
            "max_width": null,
            "min_height": null,
            "min_width": null,
            "object_fit": null,
            "object_position": null,
            "order": null,
            "overflow": null,
            "overflow_x": null,
            "overflow_y": null,
            "padding": null,
            "right": null,
            "top": null,
            "visibility": null,
            "width": null
          }
        },
        "83ca048bc15c4795b25b316b2a0da809": {
          "model_module": "@jupyter-widgets/controls",
          "model_module_version": "1.5.0",
          "model_name": "DescriptionStyleModel",
          "state": {
            "_model_module": "@jupyter-widgets/controls",
            "_model_module_version": "1.5.0",
            "_model_name": "DescriptionStyleModel",
            "_view_count": null,
            "_view_module": "@jupyter-widgets/base",
            "_view_module_version": "1.2.0",
            "_view_name": "StyleView",
            "description_width": ""
          }
        },
        "98fe9d3bfe314094b165243ba10f7a1b": {
          "model_module": "@jupyter-widgets/controls",
          "model_module_version": "1.5.0",
          "model_name": "FloatProgressModel",
          "state": {
            "_dom_classes": [],
            "_model_module": "@jupyter-widgets/controls",
            "_model_module_version": "1.5.0",
            "_model_name": "FloatProgressModel",
            "_view_count": null,
            "_view_module": "@jupyter-widgets/controls",
            "_view_module_version": "1.5.0",
            "_view_name": "ProgressView",
            "bar_style": "success",
            "description": "",
            "description_tooltip": null,
            "layout": "IPY_MODEL_531d11272e5141529b86b35c96937bff",
            "max": 5,
            "min": 0,
            "orientation": "horizontal",
            "style": "IPY_MODEL_4681b4675f5e46dd81e25807ad6f8387",
            "value": 5
          }
        },
        "c4c123e1f405483bb2393d73a637d981": {
          "model_module": "@jupyter-widgets/controls",
          "model_module_version": "1.5.0",
          "model_name": "ProgressStyleModel",
          "state": {
            "_model_module": "@jupyter-widgets/controls",
            "_model_module_version": "1.5.0",
            "_model_name": "ProgressStyleModel",
            "_view_count": null,
            "_view_module": "@jupyter-widgets/base",
            "_view_module_version": "1.2.0",
            "_view_name": "StyleView",
            "bar_color": null,
            "description_width": ""
          }
        },
        "ce980a8fc8214d078f3c5bc8ab29bd70": {
          "model_module": "@jupyter-widgets/controls",
          "model_module_version": "1.5.0",
          "model_name": "HTMLModel",
          "state": {
            "_dom_classes": [],
            "_model_module": "@jupyter-widgets/controls",
            "_model_module_version": "1.5.0",
            "_model_name": "HTMLModel",
            "_view_count": null,
            "_view_module": "@jupyter-widgets/controls",
            "_view_module_version": "1.5.0",
            "_view_name": "HTMLView",
            "description": "",
            "description_tooltip": null,
            "layout": "IPY_MODEL_5ee4832720ce46d09f129cc1b6e1592f",
            "placeholder": "​",
            "style": "IPY_MODEL_64bdf85037ee45fda22944c7d5f9215b",
            "value": " 5/5 [00:08&lt;00:00,  1.11s/it]"
          }
        },
        "d52a9ceb7ebf4907a075499b5c4cbc47": {
          "model_module": "@jupyter-widgets/controls",
          "model_module_version": "1.5.0",
          "model_name": "HBoxModel",
          "state": {
            "_dom_classes": [],
            "_model_module": "@jupyter-widgets/controls",
            "_model_module_version": "1.5.0",
            "_model_name": "HBoxModel",
            "_view_count": null,
            "_view_module": "@jupyter-widgets/controls",
            "_view_module_version": "1.5.0",
            "_view_name": "HBoxView",
            "box_style": "",
            "children": [
              "IPY_MODEL_0014811dbbde4cc68ec96060031cfb42",
              "IPY_MODEL_98fe9d3bfe314094b165243ba10f7a1b",
              "IPY_MODEL_dd97c20500524e1784cd8c92cc7a94f2"
            ],
            "layout": "IPY_MODEL_dcd902650c2d427d958837eb48468f56"
          }
        },
        "d93dca3a04094e43b8fae0513cf843d2": {
          "model_module": "@jupyter-widgets/controls",
          "model_module_version": "1.5.0",
          "model_name": "HTMLModel",
          "state": {
            "_dom_classes": [],
            "_model_module": "@jupyter-widgets/controls",
            "_model_module_version": "1.5.0",
            "_model_name": "HTMLModel",
            "_view_count": null,
            "_view_module": "@jupyter-widgets/controls",
            "_view_module_version": "1.5.0",
            "_view_name": "HTMLView",
            "description": "",
            "description_tooltip": null,
            "layout": "IPY_MODEL_22a5b0fa738048cdb023fbe16615e3d1",
            "placeholder": "​",
            "style": "IPY_MODEL_83ca048bc15c4795b25b316b2a0da809",
            "value": "100%"
          }
        },
        "daff86c40db34ba0808a7afd0a2bc760": {
          "model_module": "@jupyter-widgets/controls",
          "model_module_version": "1.5.0",
          "model_name": "DescriptionStyleModel",
          "state": {
            "_model_module": "@jupyter-widgets/controls",
            "_model_module_version": "1.5.0",
            "_model_name": "DescriptionStyleModel",
            "_view_count": null,
            "_view_module": "@jupyter-widgets/base",
            "_view_module_version": "1.2.0",
            "_view_name": "StyleView",
            "description_width": ""
          }
        },
        "dcd902650c2d427d958837eb48468f56": {
          "model_module": "@jupyter-widgets/base",
          "model_module_version": "1.2.0",
          "model_name": "LayoutModel",
          "state": {
            "_model_module": "@jupyter-widgets/base",
            "_model_module_version": "1.2.0",
            "_model_name": "LayoutModel",
            "_view_count": null,
            "_view_module": "@jupyter-widgets/base",
            "_view_module_version": "1.2.0",
            "_view_name": "LayoutView",
            "align_content": null,
            "align_items": null,
            "align_self": null,
            "border": null,
            "bottom": null,
            "display": null,
            "flex": null,
            "flex_flow": null,
            "grid_area": null,
            "grid_auto_columns": null,
            "grid_auto_flow": null,
            "grid_auto_rows": null,
            "grid_column": null,
            "grid_gap": null,
            "grid_row": null,
            "grid_template_areas": null,
            "grid_template_columns": null,
            "grid_template_rows": null,
            "height": null,
            "justify_content": null,
            "justify_items": null,
            "left": null,
            "margin": null,
            "max_height": null,
            "max_width": null,
            "min_height": null,
            "min_width": null,
            "object_fit": null,
            "object_position": null,
            "order": null,
            "overflow": null,
            "overflow_x": null,
            "overflow_y": null,
            "padding": null,
            "right": null,
            "top": null,
            "visibility": null,
            "width": null
          }
        },
        "dd97c20500524e1784cd8c92cc7a94f2": {
          "model_module": "@jupyter-widgets/controls",
          "model_module_version": "1.5.0",
          "model_name": "HTMLModel",
          "state": {
            "_dom_classes": [],
            "_model_module": "@jupyter-widgets/controls",
            "_model_module_version": "1.5.0",
            "_model_name": "HTMLModel",
            "_view_count": null,
            "_view_module": "@jupyter-widgets/controls",
            "_view_module_version": "1.5.0",
            "_view_name": "HTMLView",
            "description": "",
            "description_tooltip": null,
            "layout": "IPY_MODEL_2af3d6f0ef9841cb91ef4440e5fd5013",
            "placeholder": "​",
            "style": "IPY_MODEL_0ff3691207064fee8eae19cd376ea591",
            "value": " 5/5 [03:22&lt;00:00, 28.95s/it]"
          }
        },
        "ed6ceec77e02476fa52e6f6f1b1e62e0": {
          "model_module": "@jupyter-widgets/base",
          "model_module_version": "1.2.0",
          "model_name": "LayoutModel",
          "state": {
            "_model_module": "@jupyter-widgets/base",
            "_model_module_version": "1.2.0",
            "_model_name": "LayoutModel",
            "_view_count": null,
            "_view_module": "@jupyter-widgets/base",
            "_view_module_version": "1.2.0",
            "_view_name": "LayoutView",
            "align_content": null,
            "align_items": null,
            "align_self": null,
            "border": null,
            "bottom": null,
            "display": null,
            "flex": null,
            "flex_flow": null,
            "grid_area": null,
            "grid_auto_columns": null,
            "grid_auto_flow": null,
            "grid_auto_rows": null,
            "grid_column": null,
            "grid_gap": null,
            "grid_row": null,
            "grid_template_areas": null,
            "grid_template_columns": null,
            "grid_template_rows": null,
            "height": null,
            "justify_content": null,
            "justify_items": null,
            "left": null,
            "margin": null,
            "max_height": null,
            "max_width": null,
            "min_height": null,
            "min_width": null,
            "object_fit": null,
            "object_position": null,
            "order": null,
            "overflow": null,
            "overflow_x": null,
            "overflow_y": null,
            "padding": null,
            "right": null,
            "top": null,
            "visibility": null,
            "width": null
          }
        },
        "ff0b59ec2e9d4a2e97ce485f50a1ee5d": {
          "model_module": "@jupyter-widgets/controls",
          "model_module_version": "1.5.0",
          "model_name": "FloatProgressModel",
          "state": {
            "_dom_classes": [],
            "_model_module": "@jupyter-widgets/controls",
            "_model_module_version": "1.5.0",
            "_model_name": "FloatProgressModel",
            "_view_count": null,
            "_view_module": "@jupyter-widgets/controls",
            "_view_module_version": "1.5.0",
            "_view_name": "ProgressView",
            "bar_style": "success",
            "description": "",
            "description_tooltip": null,
            "layout": "IPY_MODEL_6a71a527093e4d41bd251e9973c337ab",
            "max": 5,
            "min": 0,
            "orientation": "horizontal",
            "style": "IPY_MODEL_c4c123e1f405483bb2393d73a637d981",
            "value": 5
          }
        }
      }
    }
  },
  "nbformat": 4,
  "nbformat_minor": 0
}
